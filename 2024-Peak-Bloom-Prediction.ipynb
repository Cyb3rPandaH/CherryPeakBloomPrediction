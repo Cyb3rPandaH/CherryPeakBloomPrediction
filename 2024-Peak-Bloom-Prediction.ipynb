{
 "cells": [
  {
   "cell_type": "markdown",
   "metadata": {},
   "source": [
    "# Peak Bloom Prediction\n",
    "\n",
    "-  **Author**: Jose Rodriguez\n",
    "\n",
    "## Importing Libraries"
   ]
  },
  {
   "cell_type": "code",
   "execution_count": 1,
   "metadata": {},
   "outputs": [],
   "source": [
    "# data manipulation\n",
    "import pandas as pd\n",
    "#pd.set_option('display.max_rows', None)  # Show all rows\n",
    "#pd.set_option('display.max_columns', None)  # Show all columns\n",
    "import os\n",
    "# Visualizations\n",
    "import plotly.graph_objects as go\n",
    "import plotly.express as px"
   ]
  },
  {
   "cell_type": "markdown",
   "metadata": {},
   "source": [
    "## Defining Data Paths"
   ]
  },
  {
   "cell_type": "code",
   "execution_count": 2,
   "metadata": {},
   "outputs": [],
   "source": [
    "# Path to data\n",
    "bloomDataPaths = ['washingtondc.csv',\n",
    "             'vancouver.csv',\n",
    "             'liestal.csv',\n",
    "             'kyoto.csv']\n",
    "\n",
    "weatherDataPaths = ['POWER_Point_Daily_19810101_20240229_washingtondc.csv',\n",
    "                         'POWER_Point_Daily_19810101_20240229_vancouver.csv',\n",
    "                         'POWER_Point_Daily_19810101_20240229_newyork.csv',\n",
    "                         'POWER_Point_Daily_19810101_20240229_liestal.csv',\n",
    "                         'POWER_Point_Daily_19810101_20240229_kyoto.csv']"
   ]
  },
  {
   "cell_type": "markdown",
   "metadata": {},
   "source": [
    "## Loading the Data\n",
    "\n",
    "- Bloom data"
   ]
  },
  {
   "cell_type": "code",
   "execution_count": 20,
   "metadata": {},
   "outputs": [
    {
     "name": "stdout",
     "output_type": "stream",
     "text": [
      "Data Types:\n",
      "location            category\n",
      "lat                  float64\n",
      "long                 float64\n",
      "alt                    int64\n",
      "year                   int64\n",
      "bloom_date    datetime64[ns]\n",
      "bloom_doy              int64\n",
      "dtype: object\n",
      "====================================\n",
      "Number of observations:\n",
      "       location  Observations\n",
      "0         kyoto            42\n",
      "1       liestal            42\n",
      "3  washingtondc            42\n",
      "2     vancouver             2\n",
      "====================================\n",
      "Sample observations:\n",
      "       location       lat       long  alt  year bloom_date  bloom_doy\n",
      "0  washingtondc  38.88535 -77.038628    0  1982 1982-04-07         97\n",
      "1  washingtondc  38.88535 -77.038628    0  1983 1983-04-07         97\n",
      "2  washingtondc  38.88535 -77.038628    0  1984 1984-04-03         94\n",
      "3  washingtondc  38.88535 -77.038628    0  1985 1985-04-07         97\n",
      "4  washingtondc  38.88535 -77.038628    0  1986 1986-04-02         92\n",
      "====================================\n"
     ]
    }
   ],
   "source": [
    "# Initialize an empty list to store DataFrames\n",
    "bloomData = []\n",
    "\n",
    "# Iterate over each file path\n",
    "for file_path in bloomDataPaths:\n",
    "    # Append the DataFrame to the list\n",
    "    bloomData.append(pd.read_csv(file_path))\n",
    "\n",
    "# Concatenate all DataFrames in the list into a single DataFrame\n",
    "bloomData = pd.concat(bloomData, ignore_index=True)\n",
    "\n",
    "# Adjusting location as cateogrical variable\n",
    "bloomData['location'] = bloomData['location'].astype('category')\n",
    "\n",
    "# Adjusting bloom_date as datetime variable (For dates before year 1677, it shows NaT)\n",
    "bloomData['bloom_date'] = pd.to_datetime(bloomData['bloom_date'],format='%Y-%m-%d',errors = 'coerce')\n",
    "\n",
    "# Removing null values for bloom_date\n",
    "bloomData.dropna(subset=['bloom_date'],inplace = True)\n",
    "\n",
    "# Filtering out data with years before 1981\n",
    "bloomData = bloomData[bloomData['year'] >= 1982].reset_index(drop=True)\n",
    "\n",
    "# Summary of data\n",
    "print(\"Data Types:\")\n",
    "print(bloomData.dtypes,end='\\n====================================\\n')\n",
    "print(\"Number of observations:\")\n",
    "print(bloomData.groupby(['location'],observed=True).size()\\\n",
    "    .reset_index(name = 'Observations')\\\n",
    "    .sort_values(by = \"Observations\",ascending = False),end='\\n====================================\\n')\n",
    "print(\"Sample observations:\")\n",
    "print(bloomData.head(),end='\\n====================================\\n')"
   ]
  },
  {
   "cell_type": "markdown",
   "metadata": {},
   "source": [
    "- Visualizing Time Series for Bloom Day of the Year"
   ]
  },
  {
   "cell_type": "code",
   "execution_count": 30,
   "metadata": {},
   "outputs": [
    {
     "data": {
      "application/vnd.plotly.v1+json": {
       "config": {
        "plotlyServerURL": "https://plot.ly"
       },
       "data": [
        {
         "hovertemplate": "location=washingtondc<br>bloom_date=%{x}<br>bloom_doy=%{y}<extra></extra>",
         "legendgroup": "washingtondc",
         "line": {
          "color": "#636efa",
          "dash": "solid"
         },
         "marker": {
          "symbol": "circle"
         },
         "mode": "lines",
         "name": "washingtondc",
         "orientation": "v",
         "showlegend": true,
         "type": "scatter",
         "x": [
          "1982-04-07T00:00:00",
          "1983-04-07T00:00:00",
          "1984-04-03T00:00:00",
          "1985-04-07T00:00:00",
          "1986-04-02T00:00:00",
          "1987-03-28T00:00:00",
          "1988-03-31T00:00:00",
          "1989-03-29T00:00:00",
          "1990-03-15T00:00:00",
          "1991-03-29T00:00:00",
          "1992-04-07T00:00:00",
          "1993-04-11T00:00:00",
          "1994-04-05T00:00:00",
          "1995-04-02T00:00:00",
          "1996-04-04T00:00:00",
          "1997-03-26T00:00:00",
          "1998-03-27T00:00:00",
          "1999-04-05T00:00:00",
          "2000-03-17T00:00:00",
          "2001-04-06T00:00:00",
          "2002-04-02T00:00:00",
          "2003-04-02T00:00:00",
          "2004-03-31T00:00:00",
          "2005-04-09T00:00:00",
          "2006-03-30T00:00:00",
          "2007-04-01T00:00:00",
          "2008-03-26T00:00:00",
          "2009-04-01T00:00:00",
          "2010-03-31T00:00:00",
          "2011-03-29T00:00:00",
          "2012-03-20T00:00:00",
          "2013-04-09T00:00:00",
          "2014-04-10T00:00:00",
          "2015-04-10T00:00:00",
          "2016-03-25T00:00:00",
          "2017-03-25T00:00:00",
          "2018-04-05T00:00:00",
          "2019-04-01T00:00:00",
          "2020-03-20T00:00:00",
          "2021-03-28T00:00:00",
          "2022-03-21T00:00:00",
          "2023-03-23T00:00:00"
         ],
         "xaxis": "x",
         "y": [
          97,
          97,
          94,
          97,
          92,
          87,
          91,
          88,
          74,
          88,
          98,
          101,
          95,
          92,
          95,
          85,
          86,
          95,
          77,
          96,
          92,
          92,
          91,
          99,
          89,
          91,
          86,
          91,
          90,
          88,
          80,
          99,
          100,
          100,
          85,
          84,
          95,
          91,
          80,
          87,
          80,
          82
         ],
         "yaxis": "y"
        },
        {
         "hovertemplate": "location=vancouver<br>bloom_date=%{x}<br>bloom_doy=%{y}<extra></extra>",
         "legendgroup": "vancouver",
         "line": {
          "color": "#EF553B",
          "dash": "solid"
         },
         "marker": {
          "symbol": "circle"
         },
         "mode": "lines",
         "name": "vancouver",
         "orientation": "v",
         "showlegend": true,
         "type": "scatter",
         "x": [
          "2022-03-27T00:00:00",
          "2023-04-07T00:00:00"
         ],
         "xaxis": "x",
         "y": [
          86,
          97
         ],
         "yaxis": "y"
        },
        {
         "hovertemplate": "location=liestal<br>bloom_date=%{x}<br>bloom_doy=%{y}<extra></extra>",
         "legendgroup": "liestal",
         "line": {
          "color": "#00cc96",
          "dash": "solid"
         },
         "marker": {
          "symbol": "circle"
         },
         "mode": "lines",
         "name": "liestal",
         "orientation": "v",
         "showlegend": true,
         "type": "scatter",
         "x": [
          "1982-04-18T00:00:00",
          "1983-04-11T00:00:00",
          "1984-04-19T00:00:00",
          "1985-04-16T00:00:00",
          "1986-05-01T00:00:00",
          "1987-04-22T00:00:00",
          "1988-04-17T00:00:00",
          "1989-03-28T00:00:00",
          "1990-03-16T00:00:00",
          "1991-04-04T00:00:00",
          "1992-04-11T00:00:00",
          "1993-04-11T00:00:00",
          "1994-03-23T00:00:00",
          "1995-04-03T00:00:00",
          "1996-04-18T00:00:00",
          "1997-03-22T00:00:00",
          "1998-03-31T00:00:00",
          "1999-04-04T00:00:00",
          "2000-04-01T00:00:00",
          "2001-03-30T00:00:00",
          "2002-03-18T00:00:00",
          "2003-04-02T00:00:00",
          "2004-04-01T00:00:00",
          "2005-04-05T00:00:00",
          "2006-04-21T00:00:00",
          "2007-04-04T00:00:00",
          "2008-03-29T00:00:00",
          "2009-04-10T00:00:00",
          "2010-04-08T00:00:00",
          "2011-03-31T00:00:00",
          "2012-04-02T00:00:00",
          "2013-04-17T00:00:00",
          "2014-03-25T00:00:00",
          "2015-04-11T00:00:00",
          "2016-04-06T00:00:00",
          "2017-03-26T00:00:00",
          "2018-04-08T00:00:00",
          "2019-03-27T00:00:00",
          "2020-03-17T00:00:00",
          "2021-03-28T00:00:00",
          "2022-03-26T00:00:00",
          "2023-03-29T00:00:00"
         ],
         "xaxis": "x",
         "y": [
          108,
          101,
          110,
          106,
          121,
          112,
          108,
          87,
          75,
          94,
          102,
          101,
          82,
          93,
          109,
          81,
          90,
          94,
          92,
          89,
          77,
          92,
          92,
          95,
          111,
          94,
          89,
          100,
          98,
          90,
          93,
          107,
          84,
          101,
          97,
          85,
          98,
          86,
          77,
          87,
          85,
          88
         ],
         "yaxis": "y"
        },
        {
         "hovertemplate": "location=kyoto<br>bloom_date=%{x}<br>bloom_doy=%{y}<extra></extra>",
         "legendgroup": "kyoto",
         "line": {
          "color": "#ab63fa",
          "dash": "solid"
         },
         "marker": {
          "symbol": "circle"
         },
         "mode": "lines",
         "name": "kyoto",
         "orientation": "v",
         "showlegend": true,
         "type": "scatter",
         "x": [
          "1982-04-03T00:00:00",
          "1983-04-09T00:00:00",
          "1984-04-18T00:00:00",
          "1985-04-09T00:00:00",
          "1986-04-12T00:00:00",
          "1987-04-05T00:00:00",
          "1988-04-15T00:00:00",
          "1989-04-03T00:00:00",
          "1990-03-29T00:00:00",
          "1991-04-07T00:00:00",
          "1992-04-03T00:00:00",
          "1993-04-07T00:00:00",
          "1994-04-09T00:00:00",
          "1995-04-09T00:00:00",
          "1996-04-12T00:00:00",
          "1997-04-07T00:00:00",
          "1998-04-01T00:00:00",
          "1999-04-04T00:00:00",
          "2000-04-09T00:00:00",
          "2001-04-06T00:00:00",
          "2002-04-01T00:00:00",
          "2003-04-08T00:00:00",
          "2004-04-01T00:00:00",
          "2005-04-09T00:00:00",
          "2006-04-08T00:00:00",
          "2007-04-07T00:00:00",
          "2008-04-04T00:00:00",
          "2009-04-05T00:00:00",
          "2010-04-05T00:00:00",
          "2011-04-09T00:00:00",
          "2012-04-10T00:00:00",
          "2013-04-03T00:00:00",
          "2014-04-04T00:00:00",
          "2015-04-03T00:00:00",
          "2016-04-04T00:00:00",
          "2017-04-09T00:00:00",
          "2018-03-30T00:00:00",
          "2019-04-05T00:00:00",
          "2020-04-01T00:00:00",
          "2021-03-26T00:00:00",
          "2022-04-01T00:00:00",
          "2023-03-25T00:00:00"
         ],
         "xaxis": "x",
         "y": [
          93,
          99,
          109,
          99,
          102,
          95,
          106,
          93,
          88,
          97,
          94,
          97,
          99,
          99,
          103,
          97,
          91,
          94,
          100,
          96,
          91,
          98,
          92,
          99,
          98,
          97,
          95,
          95,
          95,
          99,
          101,
          93,
          94,
          93,
          95,
          99,
          89,
          95,
          92,
          85,
          91,
          84
         ],
         "yaxis": "y"
        }
       ],
       "layout": {
        "legend": {
         "title": {
          "text": "location"
         },
         "tracegroupgap": 0
        },
        "template": {
         "data": {
          "bar": [
           {
            "error_x": {
             "color": "#2a3f5f"
            },
            "error_y": {
             "color": "#2a3f5f"
            },
            "marker": {
             "line": {
              "color": "#E5ECF6",
              "width": 0.5
             },
             "pattern": {
              "fillmode": "overlay",
              "size": 10,
              "solidity": 0.2
             }
            },
            "type": "bar"
           }
          ],
          "barpolar": [
           {
            "marker": {
             "line": {
              "color": "#E5ECF6",
              "width": 0.5
             },
             "pattern": {
              "fillmode": "overlay",
              "size": 10,
              "solidity": 0.2
             }
            },
            "type": "barpolar"
           }
          ],
          "carpet": [
           {
            "aaxis": {
             "endlinecolor": "#2a3f5f",
             "gridcolor": "white",
             "linecolor": "white",
             "minorgridcolor": "white",
             "startlinecolor": "#2a3f5f"
            },
            "baxis": {
             "endlinecolor": "#2a3f5f",
             "gridcolor": "white",
             "linecolor": "white",
             "minorgridcolor": "white",
             "startlinecolor": "#2a3f5f"
            },
            "type": "carpet"
           }
          ],
          "choropleth": [
           {
            "colorbar": {
             "outlinewidth": 0,
             "ticks": ""
            },
            "type": "choropleth"
           }
          ],
          "contour": [
           {
            "colorbar": {
             "outlinewidth": 0,
             "ticks": ""
            },
            "colorscale": [
             [
              0,
              "#0d0887"
             ],
             [
              0.1111111111111111,
              "#46039f"
             ],
             [
              0.2222222222222222,
              "#7201a8"
             ],
             [
              0.3333333333333333,
              "#9c179e"
             ],
             [
              0.4444444444444444,
              "#bd3786"
             ],
             [
              0.5555555555555556,
              "#d8576b"
             ],
             [
              0.6666666666666666,
              "#ed7953"
             ],
             [
              0.7777777777777778,
              "#fb9f3a"
             ],
             [
              0.8888888888888888,
              "#fdca26"
             ],
             [
              1,
              "#f0f921"
             ]
            ],
            "type": "contour"
           }
          ],
          "contourcarpet": [
           {
            "colorbar": {
             "outlinewidth": 0,
             "ticks": ""
            },
            "type": "contourcarpet"
           }
          ],
          "heatmap": [
           {
            "colorbar": {
             "outlinewidth": 0,
             "ticks": ""
            },
            "colorscale": [
             [
              0,
              "#0d0887"
             ],
             [
              0.1111111111111111,
              "#46039f"
             ],
             [
              0.2222222222222222,
              "#7201a8"
             ],
             [
              0.3333333333333333,
              "#9c179e"
             ],
             [
              0.4444444444444444,
              "#bd3786"
             ],
             [
              0.5555555555555556,
              "#d8576b"
             ],
             [
              0.6666666666666666,
              "#ed7953"
             ],
             [
              0.7777777777777778,
              "#fb9f3a"
             ],
             [
              0.8888888888888888,
              "#fdca26"
             ],
             [
              1,
              "#f0f921"
             ]
            ],
            "type": "heatmap"
           }
          ],
          "heatmapgl": [
           {
            "colorbar": {
             "outlinewidth": 0,
             "ticks": ""
            },
            "colorscale": [
             [
              0,
              "#0d0887"
             ],
             [
              0.1111111111111111,
              "#46039f"
             ],
             [
              0.2222222222222222,
              "#7201a8"
             ],
             [
              0.3333333333333333,
              "#9c179e"
             ],
             [
              0.4444444444444444,
              "#bd3786"
             ],
             [
              0.5555555555555556,
              "#d8576b"
             ],
             [
              0.6666666666666666,
              "#ed7953"
             ],
             [
              0.7777777777777778,
              "#fb9f3a"
             ],
             [
              0.8888888888888888,
              "#fdca26"
             ],
             [
              1,
              "#f0f921"
             ]
            ],
            "type": "heatmapgl"
           }
          ],
          "histogram": [
           {
            "marker": {
             "pattern": {
              "fillmode": "overlay",
              "size": 10,
              "solidity": 0.2
             }
            },
            "type": "histogram"
           }
          ],
          "histogram2d": [
           {
            "colorbar": {
             "outlinewidth": 0,
             "ticks": ""
            },
            "colorscale": [
             [
              0,
              "#0d0887"
             ],
             [
              0.1111111111111111,
              "#46039f"
             ],
             [
              0.2222222222222222,
              "#7201a8"
             ],
             [
              0.3333333333333333,
              "#9c179e"
             ],
             [
              0.4444444444444444,
              "#bd3786"
             ],
             [
              0.5555555555555556,
              "#d8576b"
             ],
             [
              0.6666666666666666,
              "#ed7953"
             ],
             [
              0.7777777777777778,
              "#fb9f3a"
             ],
             [
              0.8888888888888888,
              "#fdca26"
             ],
             [
              1,
              "#f0f921"
             ]
            ],
            "type": "histogram2d"
           }
          ],
          "histogram2dcontour": [
           {
            "colorbar": {
             "outlinewidth": 0,
             "ticks": ""
            },
            "colorscale": [
             [
              0,
              "#0d0887"
             ],
             [
              0.1111111111111111,
              "#46039f"
             ],
             [
              0.2222222222222222,
              "#7201a8"
             ],
             [
              0.3333333333333333,
              "#9c179e"
             ],
             [
              0.4444444444444444,
              "#bd3786"
             ],
             [
              0.5555555555555556,
              "#d8576b"
             ],
             [
              0.6666666666666666,
              "#ed7953"
             ],
             [
              0.7777777777777778,
              "#fb9f3a"
             ],
             [
              0.8888888888888888,
              "#fdca26"
             ],
             [
              1,
              "#f0f921"
             ]
            ],
            "type": "histogram2dcontour"
           }
          ],
          "mesh3d": [
           {
            "colorbar": {
             "outlinewidth": 0,
             "ticks": ""
            },
            "type": "mesh3d"
           }
          ],
          "parcoords": [
           {
            "line": {
             "colorbar": {
              "outlinewidth": 0,
              "ticks": ""
             }
            },
            "type": "parcoords"
           }
          ],
          "pie": [
           {
            "automargin": true,
            "type": "pie"
           }
          ],
          "scatter": [
           {
            "fillpattern": {
             "fillmode": "overlay",
             "size": 10,
             "solidity": 0.2
            },
            "type": "scatter"
           }
          ],
          "scatter3d": [
           {
            "line": {
             "colorbar": {
              "outlinewidth": 0,
              "ticks": ""
             }
            },
            "marker": {
             "colorbar": {
              "outlinewidth": 0,
              "ticks": ""
             }
            },
            "type": "scatter3d"
           }
          ],
          "scattercarpet": [
           {
            "marker": {
             "colorbar": {
              "outlinewidth": 0,
              "ticks": ""
             }
            },
            "type": "scattercarpet"
           }
          ],
          "scattergeo": [
           {
            "marker": {
             "colorbar": {
              "outlinewidth": 0,
              "ticks": ""
             }
            },
            "type": "scattergeo"
           }
          ],
          "scattergl": [
           {
            "marker": {
             "colorbar": {
              "outlinewidth": 0,
              "ticks": ""
             }
            },
            "type": "scattergl"
           }
          ],
          "scattermapbox": [
           {
            "marker": {
             "colorbar": {
              "outlinewidth": 0,
              "ticks": ""
             }
            },
            "type": "scattermapbox"
           }
          ],
          "scatterpolar": [
           {
            "marker": {
             "colorbar": {
              "outlinewidth": 0,
              "ticks": ""
             }
            },
            "type": "scatterpolar"
           }
          ],
          "scatterpolargl": [
           {
            "marker": {
             "colorbar": {
              "outlinewidth": 0,
              "ticks": ""
             }
            },
            "type": "scatterpolargl"
           }
          ],
          "scatterternary": [
           {
            "marker": {
             "colorbar": {
              "outlinewidth": 0,
              "ticks": ""
             }
            },
            "type": "scatterternary"
           }
          ],
          "surface": [
           {
            "colorbar": {
             "outlinewidth": 0,
             "ticks": ""
            },
            "colorscale": [
             [
              0,
              "#0d0887"
             ],
             [
              0.1111111111111111,
              "#46039f"
             ],
             [
              0.2222222222222222,
              "#7201a8"
             ],
             [
              0.3333333333333333,
              "#9c179e"
             ],
             [
              0.4444444444444444,
              "#bd3786"
             ],
             [
              0.5555555555555556,
              "#d8576b"
             ],
             [
              0.6666666666666666,
              "#ed7953"
             ],
             [
              0.7777777777777778,
              "#fb9f3a"
             ],
             [
              0.8888888888888888,
              "#fdca26"
             ],
             [
              1,
              "#f0f921"
             ]
            ],
            "type": "surface"
           }
          ],
          "table": [
           {
            "cells": {
             "fill": {
              "color": "#EBF0F8"
             },
             "line": {
              "color": "white"
             }
            },
            "header": {
             "fill": {
              "color": "#C8D4E3"
             },
             "line": {
              "color": "white"
             }
            },
            "type": "table"
           }
          ]
         },
         "layout": {
          "annotationdefaults": {
           "arrowcolor": "#2a3f5f",
           "arrowhead": 0,
           "arrowwidth": 1
          },
          "autotypenumbers": "strict",
          "coloraxis": {
           "colorbar": {
            "outlinewidth": 0,
            "ticks": ""
           }
          },
          "colorscale": {
           "diverging": [
            [
             0,
             "#8e0152"
            ],
            [
             0.1,
             "#c51b7d"
            ],
            [
             0.2,
             "#de77ae"
            ],
            [
             0.3,
             "#f1b6da"
            ],
            [
             0.4,
             "#fde0ef"
            ],
            [
             0.5,
             "#f7f7f7"
            ],
            [
             0.6,
             "#e6f5d0"
            ],
            [
             0.7,
             "#b8e186"
            ],
            [
             0.8,
             "#7fbc41"
            ],
            [
             0.9,
             "#4d9221"
            ],
            [
             1,
             "#276419"
            ]
           ],
           "sequential": [
            [
             0,
             "#0d0887"
            ],
            [
             0.1111111111111111,
             "#46039f"
            ],
            [
             0.2222222222222222,
             "#7201a8"
            ],
            [
             0.3333333333333333,
             "#9c179e"
            ],
            [
             0.4444444444444444,
             "#bd3786"
            ],
            [
             0.5555555555555556,
             "#d8576b"
            ],
            [
             0.6666666666666666,
             "#ed7953"
            ],
            [
             0.7777777777777778,
             "#fb9f3a"
            ],
            [
             0.8888888888888888,
             "#fdca26"
            ],
            [
             1,
             "#f0f921"
            ]
           ],
           "sequentialminus": [
            [
             0,
             "#0d0887"
            ],
            [
             0.1111111111111111,
             "#46039f"
            ],
            [
             0.2222222222222222,
             "#7201a8"
            ],
            [
             0.3333333333333333,
             "#9c179e"
            ],
            [
             0.4444444444444444,
             "#bd3786"
            ],
            [
             0.5555555555555556,
             "#d8576b"
            ],
            [
             0.6666666666666666,
             "#ed7953"
            ],
            [
             0.7777777777777778,
             "#fb9f3a"
            ],
            [
             0.8888888888888888,
             "#fdca26"
            ],
            [
             1,
             "#f0f921"
            ]
           ]
          },
          "colorway": [
           "#636efa",
           "#EF553B",
           "#00cc96",
           "#ab63fa",
           "#FFA15A",
           "#19d3f3",
           "#FF6692",
           "#B6E880",
           "#FF97FF",
           "#FECB52"
          ],
          "font": {
           "color": "#2a3f5f"
          },
          "geo": {
           "bgcolor": "white",
           "lakecolor": "white",
           "landcolor": "#E5ECF6",
           "showlakes": true,
           "showland": true,
           "subunitcolor": "white"
          },
          "hoverlabel": {
           "align": "left"
          },
          "hovermode": "closest",
          "mapbox": {
           "style": "light"
          },
          "paper_bgcolor": "white",
          "plot_bgcolor": "#E5ECF6",
          "polar": {
           "angularaxis": {
            "gridcolor": "white",
            "linecolor": "white",
            "ticks": ""
           },
           "bgcolor": "#E5ECF6",
           "radialaxis": {
            "gridcolor": "white",
            "linecolor": "white",
            "ticks": ""
           }
          },
          "scene": {
           "xaxis": {
            "backgroundcolor": "#E5ECF6",
            "gridcolor": "white",
            "gridwidth": 2,
            "linecolor": "white",
            "showbackground": true,
            "ticks": "",
            "zerolinecolor": "white"
           },
           "yaxis": {
            "backgroundcolor": "#E5ECF6",
            "gridcolor": "white",
            "gridwidth": 2,
            "linecolor": "white",
            "showbackground": true,
            "ticks": "",
            "zerolinecolor": "white"
           },
           "zaxis": {
            "backgroundcolor": "#E5ECF6",
            "gridcolor": "white",
            "gridwidth": 2,
            "linecolor": "white",
            "showbackground": true,
            "ticks": "",
            "zerolinecolor": "white"
           }
          },
          "shapedefaults": {
           "line": {
            "color": "#2a3f5f"
           }
          },
          "ternary": {
           "aaxis": {
            "gridcolor": "white",
            "linecolor": "white",
            "ticks": ""
           },
           "baxis": {
            "gridcolor": "white",
            "linecolor": "white",
            "ticks": ""
           },
           "bgcolor": "#E5ECF6",
           "caxis": {
            "gridcolor": "white",
            "linecolor": "white",
            "ticks": ""
           }
          },
          "title": {
           "x": 0.05
          },
          "xaxis": {
           "automargin": true,
           "gridcolor": "white",
           "linecolor": "white",
           "ticks": "",
           "title": {
            "standoff": 15
           },
           "zerolinecolor": "white",
           "zerolinewidth": 2
          },
          "yaxis": {
           "automargin": true,
           "gridcolor": "white",
           "linecolor": "white",
           "ticks": "",
           "title": {
            "standoff": 15
           },
           "zerolinecolor": "white",
           "zerolinewidth": 2
          }
         }
        },
        "title": {
         "text": "Time series for bloom day (1982 - 2023)"
        },
        "xaxis": {
         "anchor": "y",
         "domain": [
          0,
          1
         ],
         "title": {
          "text": "bloom_date"
         }
        },
        "yaxis": {
         "anchor": "x",
         "domain": [
          0,
          1
         ],
         "title": {
          "text": "bloom_doy"
         }
        }
       }
      }
     },
     "metadata": {},
     "output_type": "display_data"
    }
   ],
   "source": [
    "# Create a time series line chart using Plotly Express\n",
    "fig = px.line(bloomData, x='bloom_date', y='bloom_doy', title='Time series for bloom day (1982 - 2023)',\n",
    "              color = 'location')\n",
    "\n",
    "# Show the chart\n",
    "fig.show()"
   ]
  },
  {
   "cell_type": "markdown",
   "metadata": {},
   "source": [
    "- Weather data"
   ]
  },
  {
   "cell_type": "code",
   "execution_count": 16,
   "metadata": {},
   "outputs": [
    {
     "name": "stdout",
     "output_type": "stream",
     "text": [
      "Data Types:\n",
      "year              int64\n",
      "month             int64\n",
      "day               int64\n",
      "t2m             float64\n",
      "ts              float64\n",
      "qv2m            float64\n",
      "rh2m            float64\n",
      "prectotcorr     float64\n",
      "ps              float64\n",
      "ws10m           float64\n",
      "location       category\n",
      "dtype: object\n",
      "====================================\n",
      "Number of observations:\n",
      "       location  Observations\n",
      "0         kyoto         15765\n",
      "1       liestal         15765\n",
      "2       newyork         15765\n",
      "3     vancouver         15765\n",
      "4  washingtondc         15765\n",
      "====================================\n",
      "Sample observations:\n"
     ]
    },
    {
     "data": {
      "text/html": [
       "<div>\n",
       "<style scoped>\n",
       "    .dataframe tbody tr th:only-of-type {\n",
       "        vertical-align: middle;\n",
       "    }\n",
       "\n",
       "    .dataframe tbody tr th {\n",
       "        vertical-align: top;\n",
       "    }\n",
       "\n",
       "    .dataframe thead th {\n",
       "        text-align: right;\n",
       "    }\n",
       "</style>\n",
       "<table border=\"1\" class=\"dataframe\">\n",
       "  <thead>\n",
       "    <tr style=\"text-align: right;\">\n",
       "      <th></th>\n",
       "      <th>year</th>\n",
       "      <th>month</th>\n",
       "      <th>day</th>\n",
       "      <th>t2m</th>\n",
       "      <th>ts</th>\n",
       "      <th>qv2m</th>\n",
       "      <th>rh2m</th>\n",
       "      <th>prectotcorr</th>\n",
       "      <th>ps</th>\n",
       "      <th>ws10m</th>\n",
       "      <th>location</th>\n",
       "    </tr>\n",
       "  </thead>\n",
       "  <tbody>\n",
       "    <tr>\n",
       "      <th>0</th>\n",
       "      <td>1981</td>\n",
       "      <td>1</td>\n",
       "      <td>1</td>\n",
       "      <td>-2.33</td>\n",
       "      <td>-1.67</td>\n",
       "      <td>2.69</td>\n",
       "      <td>85.69</td>\n",
       "      <td>2.24</td>\n",
       "      <td>100.43</td>\n",
       "      <td>2.58</td>\n",
       "      <td>washingtondc</td>\n",
       "    </tr>\n",
       "    <tr>\n",
       "      <th>1</th>\n",
       "      <td>1981</td>\n",
       "      <td>1</td>\n",
       "      <td>2</td>\n",
       "      <td>-1.80</td>\n",
       "      <td>-1.81</td>\n",
       "      <td>2.38</td>\n",
       "      <td>73.19</td>\n",
       "      <td>0.04</td>\n",
       "      <td>100.58</td>\n",
       "      <td>6.70</td>\n",
       "      <td>washingtondc</td>\n",
       "    </tr>\n",
       "    <tr>\n",
       "      <th>2</th>\n",
       "      <td>1981</td>\n",
       "      <td>1</td>\n",
       "      <td>3</td>\n",
       "      <td>-2.99</td>\n",
       "      <td>-3.13</td>\n",
       "      <td>2.32</td>\n",
       "      <td>76.31</td>\n",
       "      <td>0.00</td>\n",
       "      <td>100.67</td>\n",
       "      <td>4.70</td>\n",
       "      <td>washingtondc</td>\n",
       "    </tr>\n",
       "    <tr>\n",
       "      <th>3</th>\n",
       "      <td>1981</td>\n",
       "      <td>1</td>\n",
       "      <td>4</td>\n",
       "      <td>-11.08</td>\n",
       "      <td>-9.81</td>\n",
       "      <td>0.92</td>\n",
       "      <td>63.06</td>\n",
       "      <td>0.00</td>\n",
       "      <td>101.43</td>\n",
       "      <td>8.38</td>\n",
       "      <td>washingtondc</td>\n",
       "    </tr>\n",
       "    <tr>\n",
       "      <th>4</th>\n",
       "      <td>1981</td>\n",
       "      <td>1</td>\n",
       "      <td>5</td>\n",
       "      <td>-9.27</td>\n",
       "      <td>-8.62</td>\n",
       "      <td>1.34</td>\n",
       "      <td>79.81</td>\n",
       "      <td>0.00</td>\n",
       "      <td>102.02</td>\n",
       "      <td>5.87</td>\n",
       "      <td>washingtondc</td>\n",
       "    </tr>\n",
       "  </tbody>\n",
       "</table>\n",
       "</div>"
      ],
      "text/plain": [
       "   year  month  day    t2m    ts  qv2m   rh2m  prectotcorr      ps  ws10m  \\\n",
       "0  1981      1    1  -2.33 -1.67  2.69  85.69         2.24  100.43   2.58   \n",
       "1  1981      1    2  -1.80 -1.81  2.38  73.19         0.04  100.58   6.70   \n",
       "2  1981      1    3  -2.99 -3.13  2.32  76.31         0.00  100.67   4.70   \n",
       "3  1981      1    4 -11.08 -9.81  0.92  63.06         0.00  101.43   8.38   \n",
       "4  1981      1    5  -9.27 -8.62  1.34  79.81         0.00  102.02   5.87   \n",
       "\n",
       "       location  \n",
       "0  washingtondc  \n",
       "1  washingtondc  \n",
       "2  washingtondc  \n",
       "3  washingtondc  \n",
       "4  washingtondc  "
      ]
     },
     "execution_count": 16,
     "metadata": {},
     "output_type": "execute_result"
    }
   ],
   "source": [
    "# Initialize an empty list to store DataFrames\n",
    "weatherData = []\n",
    "\n",
    "# Iterate over each file path\n",
    "for file_path in weatherDataPaths:\n",
    "    # reading CSV\n",
    "    df = pd.read_csv(file_path,skiprows=15)\n",
    "    # extracting location\n",
    "    # Extract location name from file path\n",
    "    file_name = os.path.basename(file_path)\n",
    "    location = file_name.split('_')[-1].split('.')[0]\n",
    "    # Add location as a new column\n",
    "    df['location'] = location\n",
    "    # Append the DataFrame to the list\n",
    "    weatherData.append(df)\n",
    "\n",
    "# Concatenate all DataFrames in the list into a single DataFrame\n",
    "weatherData = pd.concat(weatherData, ignore_index=True)\n",
    "\n",
    "# column names to lowercase\n",
    "weatherData.columns = weatherData.columns.str.lower()\n",
    "\n",
    "# Adjusting location as cateogrical variable\n",
    "weatherData['location'] = weatherData['location'].astype('category')\n",
    "\n",
    "# Renaming month and day columns\n",
    "weatherData.rename(columns={'mo':'month','dy':'day'},inplace=True)\n",
    "\n",
    "# Summary of data\n",
    "print(\"Data Types:\")\n",
    "print(weatherData.dtypes,end='\\n====================================\\n')\n",
    "print(\"Number of observations:\")\n",
    "print(weatherData.groupby(['location'],observed=True).size()\\\n",
    "    .reset_index(name = 'Observations')\\\n",
    "    .sort_values(by = \"Observations\",ascending = False),end='\\n====================================\\n')\n",
    "print(\"Sample observations:\")\n",
    "weatherData.head()"
   ]
  },
  {
   "cell_type": "markdown",
   "metadata": {},
   "source": [
    "## Pre-Processing Data\n",
    "\n",
    "- Getting weather variables in columns per day"
   ]
  },
  {
   "cell_type": "code",
   "execution_count": 17,
   "metadata": {},
   "outputs": [
    {
     "name": "stdout",
     "output_type": "stream",
     "text": [
      "Null values count: 0\n"
     ]
    },
    {
     "data": {
      "text/html": [
       "<div>\n",
       "<style scoped>\n",
       "    .dataframe tbody tr th:only-of-type {\n",
       "        vertical-align: middle;\n",
       "    }\n",
       "\n",
       "    .dataframe tbody tr th {\n",
       "        vertical-align: top;\n",
       "    }\n",
       "\n",
       "    .dataframe thead th {\n",
       "        text-align: right;\n",
       "    }\n",
       "</style>\n",
       "<table border=\"1\" class=\"dataframe\">\n",
       "  <thead>\n",
       "    <tr style=\"text-align: right;\">\n",
       "      <th></th>\n",
       "      <th>year</th>\n",
       "      <th>location</th>\n",
       "      <th>t2m-dec-1</th>\n",
       "      <th>t2m-dec-10</th>\n",
       "      <th>t2m-dec-11</th>\n",
       "      <th>t2m-dec-12</th>\n",
       "      <th>t2m-dec-13</th>\n",
       "      <th>t2m-dec-14</th>\n",
       "      <th>t2m-dec-15</th>\n",
       "      <th>t2m-dec-16</th>\n",
       "      <th>...</th>\n",
       "      <th>ws10m-jan-29</th>\n",
       "      <th>ws10m-jan-3</th>\n",
       "      <th>ws10m-jan-30</th>\n",
       "      <th>ws10m-jan-31</th>\n",
       "      <th>ws10m-jan-4</th>\n",
       "      <th>ws10m-jan-5</th>\n",
       "      <th>ws10m-jan-6</th>\n",
       "      <th>ws10m-jan-7</th>\n",
       "      <th>ws10m-jan-8</th>\n",
       "      <th>ws10m-jan-9</th>\n",
       "    </tr>\n",
       "  </thead>\n",
       "  <tbody>\n",
       "    <tr>\n",
       "      <th>5</th>\n",
       "      <td>1982</td>\n",
       "      <td>kyoto</td>\n",
       "      <td>5.06</td>\n",
       "      <td>3.63</td>\n",
       "      <td>4.22</td>\n",
       "      <td>5.74</td>\n",
       "      <td>2.82</td>\n",
       "      <td>0.26</td>\n",
       "      <td>0.33</td>\n",
       "      <td>2.41</td>\n",
       "      <td>...</td>\n",
       "      <td>7.69</td>\n",
       "      <td>2.39</td>\n",
       "      <td>4.67</td>\n",
       "      <td>3.13</td>\n",
       "      <td>3.93</td>\n",
       "      <td>6.83</td>\n",
       "      <td>3.52</td>\n",
       "      <td>6.38</td>\n",
       "      <td>1.98</td>\n",
       "      <td>4.03</td>\n",
       "    </tr>\n",
       "    <tr>\n",
       "      <th>6</th>\n",
       "      <td>1982</td>\n",
       "      <td>liestal</td>\n",
       "      <td>-1.49</td>\n",
       "      <td>0.71</td>\n",
       "      <td>2.52</td>\n",
       "      <td>-0.99</td>\n",
       "      <td>-3.61</td>\n",
       "      <td>1.87</td>\n",
       "      <td>1.19</td>\n",
       "      <td>1.18</td>\n",
       "      <td>...</td>\n",
       "      <td>6.65</td>\n",
       "      <td>2.96</td>\n",
       "      <td>5.87</td>\n",
       "      <td>4.59</td>\n",
       "      <td>6.04</td>\n",
       "      <td>8.10</td>\n",
       "      <td>5.80</td>\n",
       "      <td>5.09</td>\n",
       "      <td>4.43</td>\n",
       "      <td>6.05</td>\n",
       "    </tr>\n",
       "    <tr>\n",
       "      <th>7</th>\n",
       "      <td>1982</td>\n",
       "      <td>newyork</td>\n",
       "      <td>3.68</td>\n",
       "      <td>-0.52</td>\n",
       "      <td>0.54</td>\n",
       "      <td>1.24</td>\n",
       "      <td>0.35</td>\n",
       "      <td>0.86</td>\n",
       "      <td>2.87</td>\n",
       "      <td>1.05</td>\n",
       "      <td>...</td>\n",
       "      <td>6.07</td>\n",
       "      <td>3.62</td>\n",
       "      <td>5.35</td>\n",
       "      <td>4.56</td>\n",
       "      <td>11.84</td>\n",
       "      <td>10.31</td>\n",
       "      <td>6.07</td>\n",
       "      <td>5.74</td>\n",
       "      <td>8.05</td>\n",
       "      <td>8.72</td>\n",
       "    </tr>\n",
       "    <tr>\n",
       "      <th>8</th>\n",
       "      <td>1982</td>\n",
       "      <td>vancouver</td>\n",
       "      <td>7.23</td>\n",
       "      <td>5.80</td>\n",
       "      <td>4.03</td>\n",
       "      <td>0.27</td>\n",
       "      <td>0.94</td>\n",
       "      <td>5.62</td>\n",
       "      <td>3.23</td>\n",
       "      <td>2.62</td>\n",
       "      <td>...</td>\n",
       "      <td>4.06</td>\n",
       "      <td>3.42</td>\n",
       "      <td>3.24</td>\n",
       "      <td>3.70</td>\n",
       "      <td>3.38</td>\n",
       "      <td>4.18</td>\n",
       "      <td>3.34</td>\n",
       "      <td>4.70</td>\n",
       "      <td>3.93</td>\n",
       "      <td>1.67</td>\n",
       "    </tr>\n",
       "    <tr>\n",
       "      <th>9</th>\n",
       "      <td>1982</td>\n",
       "      <td>washingtondc</td>\n",
       "      <td>2.57</td>\n",
       "      <td>-1.50</td>\n",
       "      <td>-0.79</td>\n",
       "      <td>-1.12</td>\n",
       "      <td>-1.26</td>\n",
       "      <td>-0.46</td>\n",
       "      <td>-0.46</td>\n",
       "      <td>-1.42</td>\n",
       "      <td>...</td>\n",
       "      <td>3.41</td>\n",
       "      <td>3.46</td>\n",
       "      <td>5.06</td>\n",
       "      <td>5.66</td>\n",
       "      <td>7.16</td>\n",
       "      <td>6.54</td>\n",
       "      <td>4.62</td>\n",
       "      <td>5.24</td>\n",
       "      <td>5.55</td>\n",
       "      <td>6.83</td>\n",
       "    </tr>\n",
       "    <tr>\n",
       "      <th>...</th>\n",
       "      <td>...</td>\n",
       "      <td>...</td>\n",
       "      <td>...</td>\n",
       "      <td>...</td>\n",
       "      <td>...</td>\n",
       "      <td>...</td>\n",
       "      <td>...</td>\n",
       "      <td>...</td>\n",
       "      <td>...</td>\n",
       "      <td>...</td>\n",
       "      <td>...</td>\n",
       "      <td>...</td>\n",
       "      <td>...</td>\n",
       "      <td>...</td>\n",
       "      <td>...</td>\n",
       "      <td>...</td>\n",
       "      <td>...</td>\n",
       "      <td>...</td>\n",
       "      <td>...</td>\n",
       "      <td>...</td>\n",
       "      <td>...</td>\n",
       "    </tr>\n",
       "    <tr>\n",
       "      <th>215</th>\n",
       "      <td>2024</td>\n",
       "      <td>kyoto</td>\n",
       "      <td>4.93</td>\n",
       "      <td>11.08</td>\n",
       "      <td>10.82</td>\n",
       "      <td>12.44</td>\n",
       "      <td>6.58</td>\n",
       "      <td>8.58</td>\n",
       "      <td>14.62</td>\n",
       "      <td>12.09</td>\n",
       "      <td>...</td>\n",
       "      <td>2.51</td>\n",
       "      <td>2.45</td>\n",
       "      <td>0.79</td>\n",
       "      <td>2.29</td>\n",
       "      <td>4.53</td>\n",
       "      <td>3.20</td>\n",
       "      <td>3.52</td>\n",
       "      <td>6.45</td>\n",
       "      <td>4.14</td>\n",
       "      <td>2.98</td>\n",
       "    </tr>\n",
       "    <tr>\n",
       "      <th>216</th>\n",
       "      <td>2024</td>\n",
       "      <td>liestal</td>\n",
       "      <td>-0.77</td>\n",
       "      <td>5.78</td>\n",
       "      <td>8.18</td>\n",
       "      <td>8.31</td>\n",
       "      <td>5.30</td>\n",
       "      <td>3.68</td>\n",
       "      <td>2.70</td>\n",
       "      <td>1.00</td>\n",
       "      <td>...</td>\n",
       "      <td>1.96</td>\n",
       "      <td>10.23</td>\n",
       "      <td>2.24</td>\n",
       "      <td>1.99</td>\n",
       "      <td>5.98</td>\n",
       "      <td>2.21</td>\n",
       "      <td>2.49</td>\n",
       "      <td>5.09</td>\n",
       "      <td>6.20</td>\n",
       "      <td>3.70</td>\n",
       "    </tr>\n",
       "    <tr>\n",
       "      <th>217</th>\n",
       "      <td>2024</td>\n",
       "      <td>newyork</td>\n",
       "      <td>8.50</td>\n",
       "      <td>11.65</td>\n",
       "      <td>5.72</td>\n",
       "      <td>4.31</td>\n",
       "      <td>4.76</td>\n",
       "      <td>2.96</td>\n",
       "      <td>6.30</td>\n",
       "      <td>7.39</td>\n",
       "      <td>...</td>\n",
       "      <td>7.97</td>\n",
       "      <td>3.69</td>\n",
       "      <td>4.13</td>\n",
       "      <td>3.07</td>\n",
       "      <td>6.16</td>\n",
       "      <td>5.42</td>\n",
       "      <td>6.43</td>\n",
       "      <td>7.93</td>\n",
       "      <td>4.95</td>\n",
       "      <td>10.22</td>\n",
       "    </tr>\n",
       "    <tr>\n",
       "      <th>218</th>\n",
       "      <td>2024</td>\n",
       "      <td>vancouver</td>\n",
       "      <td>4.72</td>\n",
       "      <td>6.52</td>\n",
       "      <td>5.21</td>\n",
       "      <td>3.41</td>\n",
       "      <td>5.66</td>\n",
       "      <td>6.38</td>\n",
       "      <td>6.48</td>\n",
       "      <td>6.40</td>\n",
       "      <td>...</td>\n",
       "      <td>3.54</td>\n",
       "      <td>3.55</td>\n",
       "      <td>2.88</td>\n",
       "      <td>3.99</td>\n",
       "      <td>3.84</td>\n",
       "      <td>5.27</td>\n",
       "      <td>3.79</td>\n",
       "      <td>2.33</td>\n",
       "      <td>5.12</td>\n",
       "      <td>6.64</td>\n",
       "    </tr>\n",
       "    <tr>\n",
       "      <th>219</th>\n",
       "      <td>2024</td>\n",
       "      <td>washingtondc</td>\n",
       "      <td>5.06</td>\n",
       "      <td>10.76</td>\n",
       "      <td>2.19</td>\n",
       "      <td>0.83</td>\n",
       "      <td>1.83</td>\n",
       "      <td>0.93</td>\n",
       "      <td>3.72</td>\n",
       "      <td>5.04</td>\n",
       "      <td>...</td>\n",
       "      <td>6.82</td>\n",
       "      <td>2.55</td>\n",
       "      <td>3.07</td>\n",
       "      <td>1.95</td>\n",
       "      <td>5.17</td>\n",
       "      <td>2.87</td>\n",
       "      <td>4.78</td>\n",
       "      <td>5.05</td>\n",
       "      <td>3.23</td>\n",
       "      <td>8.78</td>\n",
       "    </tr>\n",
       "  </tbody>\n",
       "</table>\n",
       "<p>215 rows × 625 columns</p>\n",
       "</div>"
      ],
      "text/plain": [
       "     year      location  t2m-dec-1  t2m-dec-10  t2m-dec-11  t2m-dec-12  \\\n",
       "5    1982         kyoto       5.06        3.63        4.22        5.74   \n",
       "6    1982       liestal      -1.49        0.71        2.52       -0.99   \n",
       "7    1982       newyork       3.68       -0.52        0.54        1.24   \n",
       "8    1982     vancouver       7.23        5.80        4.03        0.27   \n",
       "9    1982  washingtondc       2.57       -1.50       -0.79       -1.12   \n",
       "..    ...           ...        ...         ...         ...         ...   \n",
       "215  2024         kyoto       4.93       11.08       10.82       12.44   \n",
       "216  2024       liestal      -0.77        5.78        8.18        8.31   \n",
       "217  2024       newyork       8.50       11.65        5.72        4.31   \n",
       "218  2024     vancouver       4.72        6.52        5.21        3.41   \n",
       "219  2024  washingtondc       5.06       10.76        2.19        0.83   \n",
       "\n",
       "     t2m-dec-13  t2m-dec-14  t2m-dec-15  t2m-dec-16  ...  ws10m-jan-29  \\\n",
       "5          2.82        0.26        0.33        2.41  ...          7.69   \n",
       "6         -3.61        1.87        1.19        1.18  ...          6.65   \n",
       "7          0.35        0.86        2.87        1.05  ...          6.07   \n",
       "8          0.94        5.62        3.23        2.62  ...          4.06   \n",
       "9         -1.26       -0.46       -0.46       -1.42  ...          3.41   \n",
       "..          ...         ...         ...         ...  ...           ...   \n",
       "215        6.58        8.58       14.62       12.09  ...          2.51   \n",
       "216        5.30        3.68        2.70        1.00  ...          1.96   \n",
       "217        4.76        2.96        6.30        7.39  ...          7.97   \n",
       "218        5.66        6.38        6.48        6.40  ...          3.54   \n",
       "219        1.83        0.93        3.72        5.04  ...          6.82   \n",
       "\n",
       "     ws10m-jan-3  ws10m-jan-30  ws10m-jan-31  ws10m-jan-4  ws10m-jan-5  \\\n",
       "5           2.39          4.67          3.13         3.93         6.83   \n",
       "6           2.96          5.87          4.59         6.04         8.10   \n",
       "7           3.62          5.35          4.56        11.84        10.31   \n",
       "8           3.42          3.24          3.70         3.38         4.18   \n",
       "9           3.46          5.06          5.66         7.16         6.54   \n",
       "..           ...           ...           ...          ...          ...   \n",
       "215         2.45          0.79          2.29         4.53         3.20   \n",
       "216        10.23          2.24          1.99         5.98         2.21   \n",
       "217         3.69          4.13          3.07         6.16         5.42   \n",
       "218         3.55          2.88          3.99         3.84         5.27   \n",
       "219         2.55          3.07          1.95         5.17         2.87   \n",
       "\n",
       "     ws10m-jan-6  ws10m-jan-7  ws10m-jan-8  ws10m-jan-9  \n",
       "5           3.52         6.38         1.98         4.03  \n",
       "6           5.80         5.09         4.43         6.05  \n",
       "7           6.07         5.74         8.05         8.72  \n",
       "8           3.34         4.70         3.93         1.67  \n",
       "9           4.62         5.24         5.55         6.83  \n",
       "..           ...          ...          ...          ...  \n",
       "215         3.52         6.45         4.14         2.98  \n",
       "216         2.49         5.09         6.20         3.70  \n",
       "217         6.43         7.93         4.95        10.22  \n",
       "218         3.79         2.33         5.12         6.64  \n",
       "219         4.78         5.05         3.23         8.78  \n",
       "\n",
       "[215 rows x 625 columns]"
      ]
     },
     "execution_count": 17,
     "metadata": {},
     "output_type": "execute_result"
    }
   ],
   "source": [
    "\n",
    "# Create a new column of type datetime by combining 'year', 'month', and 'day'\n",
    "weatherData['weather_date'] = pd.to_datetime(weatherData[['year','month','day']])\n",
    "\n",
    "# Filter the DataFrame to select only December, January, and the first 27 days of February across all years\n",
    "weatherData = weatherData[(weatherData['weather_date'].dt.month == 12) |  # December\n",
    "                                   (weatherData['weather_date'].dt.month == 1) |   # January\n",
    "                                   ((weatherData['weather_date'].dt.month == 2) &  # February (first 27 days)\n",
    "                                    (weatherData['weather_date'].dt.day <= 27))]\n",
    "\n",
    "# Adding a tag to identify days from dec 1st to feb 27\n",
    "## create a column with month-day\n",
    "month_number_to_name = {1: 'jan',2: 'feb',3: 'mar',4: 'apr',5: 'may',6: 'jun',\n",
    "    7: 'jul',8: 'ago',9: 'sep',10: 'oct',11: 'nov',12: 'dec'}\n",
    "## Map months to names\n",
    "weatherData['dayTag'] = weatherData['month'].map(month_number_to_name)\n",
    "## names plus day\n",
    "weatherData['dayTag'] = weatherData['dayTag'] + '-' + weatherData['day'].astype(str)\n",
    "\n",
    "# dropping unnecessary columns\n",
    "weatherData.drop(columns=['month','day','weather_date'],axis=1,inplace=True)\n",
    "\n",
    "# Pivoting weather variables per day and column\n",
    "## Looping through all weather variables\n",
    "weatherVariables = ['t2m','ts','qv2m','rh2m','prectotcorr','ps','ws10m']\n",
    "weatherToConcat = [] # Empty list\n",
    "for variable in weatherVariables:\n",
    "    # Pivot the DataFrame to create columns based on 'dayTag' and values from variable\n",
    "    pivotedDf = weatherData.pivot(index=['year', 'location'], columns='dayTag', values=variable).reset_index()\n",
    "    # Add a prefix to all column names except for the first two columns\n",
    "    prefix = variable + '-'\n",
    "    new_column_names = [pivotedDf.columns[0], pivotedDf.columns[1]] + [prefix + col for col in pivotedDf.columns[2:]]\n",
    "    # Rename the columns with the new names\n",
    "    pivotedDf.columns = new_column_names\n",
    "    # Appending to empty list\n",
    "    weatherToConcat.append(pivotedDf)\n",
    "## Set the common columns 'year' and 'location' as the index for each DataFrame in the list\n",
    "dfsWithIndex = [df.set_index(['year', 'location']) for df in weatherToConcat]\n",
    "## Concatenate the DataFrames in the list 'weatherToConcat' with outer join along the index axis\n",
    "weather = pd.concat(dfsWithIndex, axis=1, join='outer')\n",
    "## Reset the index to turn the index columns back into regular columns\n",
    "weather.reset_index(inplace=True)\n",
    "\n",
    "# Moving december values from previous year to actual year\n",
    "## Identify columns containing 'dec' in their name\n",
    "columnsToShift = [col for col in weather.columns if 'dec' in col]\n",
    "## Shift the values of the identified columns down by 5 rows\n",
    "weather[columnsToShift] = weather[columnsToShift].shift(5)\n",
    "\n",
    "# Removing values for year 1981 because no data for december 1980\n",
    "weather = weather.loc[weather['year'] != 1981]\n",
    "\n",
    "print(\"Null values count: \" + str(weather.isnull().sum().sum()),end='\\n')\n",
    "weather"
   ]
  },
  {
   "cell_type": "markdown",
   "metadata": {},
   "source": [
    "- Adding Weather Context to Bloom Data"
   ]
  },
  {
   "cell_type": "code",
   "execution_count": 27,
   "metadata": {},
   "outputs": [
    {
     "data": {
      "text/html": [
       "<div>\n",
       "<style scoped>\n",
       "    .dataframe tbody tr th:only-of-type {\n",
       "        vertical-align: middle;\n",
       "    }\n",
       "\n",
       "    .dataframe tbody tr th {\n",
       "        vertical-align: top;\n",
       "    }\n",
       "\n",
       "    .dataframe thead th {\n",
       "        text-align: right;\n",
       "    }\n",
       "</style>\n",
       "<table border=\"1\" class=\"dataframe\">\n",
       "  <thead>\n",
       "    <tr style=\"text-align: right;\">\n",
       "      <th></th>\n",
       "      <th>location</th>\n",
       "      <th>lat</th>\n",
       "      <th>long</th>\n",
       "      <th>alt</th>\n",
       "      <th>year</th>\n",
       "      <th>bloom_date</th>\n",
       "      <th>bloom_doy</th>\n",
       "      <th>t2m-dec-1</th>\n",
       "      <th>t2m-dec-10</th>\n",
       "      <th>t2m-dec-11</th>\n",
       "      <th>...</th>\n",
       "      <th>ws10m-jan-29</th>\n",
       "      <th>ws10m-jan-3</th>\n",
       "      <th>ws10m-jan-30</th>\n",
       "      <th>ws10m-jan-31</th>\n",
       "      <th>ws10m-jan-4</th>\n",
       "      <th>ws10m-jan-5</th>\n",
       "      <th>ws10m-jan-6</th>\n",
       "      <th>ws10m-jan-7</th>\n",
       "      <th>ws10m-jan-8</th>\n",
       "      <th>ws10m-jan-9</th>\n",
       "    </tr>\n",
       "  </thead>\n",
       "  <tbody>\n",
       "    <tr>\n",
       "      <th>0</th>\n",
       "      <td>washingtondc</td>\n",
       "      <td>38.885350</td>\n",
       "      <td>-77.038628</td>\n",
       "      <td>0</td>\n",
       "      <td>1982</td>\n",
       "      <td>1982-04-07</td>\n",
       "      <td>97</td>\n",
       "      <td>2.57</td>\n",
       "      <td>-1.50</td>\n",
       "      <td>-0.79</td>\n",
       "      <td>...</td>\n",
       "      <td>3.41</td>\n",
       "      <td>3.46</td>\n",
       "      <td>5.06</td>\n",
       "      <td>5.66</td>\n",
       "      <td>7.16</td>\n",
       "      <td>6.54</td>\n",
       "      <td>4.62</td>\n",
       "      <td>5.24</td>\n",
       "      <td>5.55</td>\n",
       "      <td>6.83</td>\n",
       "    </tr>\n",
       "    <tr>\n",
       "      <th>1</th>\n",
       "      <td>washingtondc</td>\n",
       "      <td>38.885350</td>\n",
       "      <td>-77.038628</td>\n",
       "      <td>0</td>\n",
       "      <td>1983</td>\n",
       "      <td>1983-04-07</td>\n",
       "      <td>97</td>\n",
       "      <td>9.83</td>\n",
       "      <td>-1.86</td>\n",
       "      <td>1.73</td>\n",
       "      <td>...</td>\n",
       "      <td>2.34</td>\n",
       "      <td>4.30</td>\n",
       "      <td>3.93</td>\n",
       "      <td>3.12</td>\n",
       "      <td>3.69</td>\n",
       "      <td>2.52</td>\n",
       "      <td>3.91</td>\n",
       "      <td>5.22</td>\n",
       "      <td>3.53</td>\n",
       "      <td>4.47</td>\n",
       "    </tr>\n",
       "    <tr>\n",
       "      <th>2</th>\n",
       "      <td>washingtondc</td>\n",
       "      <td>38.885350</td>\n",
       "      <td>-77.038628</td>\n",
       "      <td>0</td>\n",
       "      <td>1984</td>\n",
       "      <td>1984-04-03</td>\n",
       "      <td>94</td>\n",
       "      <td>1.15</td>\n",
       "      <td>3.85</td>\n",
       "      <td>3.63</td>\n",
       "      <td>...</td>\n",
       "      <td>3.12</td>\n",
       "      <td>2.87</td>\n",
       "      <td>2.90</td>\n",
       "      <td>8.26</td>\n",
       "      <td>3.22</td>\n",
       "      <td>2.33</td>\n",
       "      <td>3.94</td>\n",
       "      <td>5.74</td>\n",
       "      <td>3.98</td>\n",
       "      <td>2.92</td>\n",
       "    </tr>\n",
       "    <tr>\n",
       "      <th>3</th>\n",
       "      <td>washingtondc</td>\n",
       "      <td>38.885350</td>\n",
       "      <td>-77.038628</td>\n",
       "      <td>0</td>\n",
       "      <td>1985</td>\n",
       "      <td>1985-04-07</td>\n",
       "      <td>97</td>\n",
       "      <td>4.82</td>\n",
       "      <td>2.40</td>\n",
       "      <td>3.58</td>\n",
       "      <td>...</td>\n",
       "      <td>4.23</td>\n",
       "      <td>4.98</td>\n",
       "      <td>2.09</td>\n",
       "      <td>3.40</td>\n",
       "      <td>3.05</td>\n",
       "      <td>5.89</td>\n",
       "      <td>4.02</td>\n",
       "      <td>3.74</td>\n",
       "      <td>7.33</td>\n",
       "      <td>5.12</td>\n",
       "    </tr>\n",
       "    <tr>\n",
       "      <th>4</th>\n",
       "      <td>washingtondc</td>\n",
       "      <td>38.885350</td>\n",
       "      <td>-77.038628</td>\n",
       "      <td>0</td>\n",
       "      <td>1986</td>\n",
       "      <td>1986-04-02</td>\n",
       "      <td>92</td>\n",
       "      <td>8.61</td>\n",
       "      <td>4.42</td>\n",
       "      <td>8.87</td>\n",
       "      <td>...</td>\n",
       "      <td>3.18</td>\n",
       "      <td>5.28</td>\n",
       "      <td>5.12</td>\n",
       "      <td>2.66</td>\n",
       "      <td>3.59</td>\n",
       "      <td>6.66</td>\n",
       "      <td>6.08</td>\n",
       "      <td>5.78</td>\n",
       "      <td>4.51</td>\n",
       "      <td>3.84</td>\n",
       "    </tr>\n",
       "    <tr>\n",
       "      <th>...</th>\n",
       "      <td>...</td>\n",
       "      <td>...</td>\n",
       "      <td>...</td>\n",
       "      <td>...</td>\n",
       "      <td>...</td>\n",
       "      <td>...</td>\n",
       "      <td>...</td>\n",
       "      <td>...</td>\n",
       "      <td>...</td>\n",
       "      <td>...</td>\n",
       "      <td>...</td>\n",
       "      <td>...</td>\n",
       "      <td>...</td>\n",
       "      <td>...</td>\n",
       "      <td>...</td>\n",
       "      <td>...</td>\n",
       "      <td>...</td>\n",
       "      <td>...</td>\n",
       "      <td>...</td>\n",
       "      <td>...</td>\n",
       "      <td>...</td>\n",
       "    </tr>\n",
       "    <tr>\n",
       "      <th>123</th>\n",
       "      <td>kyoto</td>\n",
       "      <td>35.011983</td>\n",
       "      <td>135.676114</td>\n",
       "      <td>44</td>\n",
       "      <td>2019</td>\n",
       "      <td>2019-04-05</td>\n",
       "      <td>95</td>\n",
       "      <td>8.86</td>\n",
       "      <td>2.87</td>\n",
       "      <td>4.26</td>\n",
       "      <td>...</td>\n",
       "      <td>5.08</td>\n",
       "      <td>4.05</td>\n",
       "      <td>2.20</td>\n",
       "      <td>4.12</td>\n",
       "      <td>2.19</td>\n",
       "      <td>3.93</td>\n",
       "      <td>4.52</td>\n",
       "      <td>3.23</td>\n",
       "      <td>3.70</td>\n",
       "      <td>5.60</td>\n",
       "    </tr>\n",
       "    <tr>\n",
       "      <th>124</th>\n",
       "      <td>kyoto</td>\n",
       "      <td>35.011983</td>\n",
       "      <td>135.676114</td>\n",
       "      <td>44</td>\n",
       "      <td>2020</td>\n",
       "      <td>2020-04-01</td>\n",
       "      <td>92</td>\n",
       "      <td>6.80</td>\n",
       "      <td>8.05</td>\n",
       "      <td>7.74</td>\n",
       "      <td>...</td>\n",
       "      <td>4.42</td>\n",
       "      <td>3.94</td>\n",
       "      <td>5.01</td>\n",
       "      <td>6.27</td>\n",
       "      <td>4.04</td>\n",
       "      <td>5.41</td>\n",
       "      <td>3.23</td>\n",
       "      <td>3.33</td>\n",
       "      <td>9.88</td>\n",
       "      <td>4.28</td>\n",
       "    </tr>\n",
       "    <tr>\n",
       "      <th>125</th>\n",
       "      <td>kyoto</td>\n",
       "      <td>35.011983</td>\n",
       "      <td>135.676114</td>\n",
       "      <td>44</td>\n",
       "      <td>2021</td>\n",
       "      <td>2021-03-26</td>\n",
       "      <td>85</td>\n",
       "      <td>7.07</td>\n",
       "      <td>7.52</td>\n",
       "      <td>9.23</td>\n",
       "      <td>...</td>\n",
       "      <td>8.73</td>\n",
       "      <td>4.74</td>\n",
       "      <td>4.71</td>\n",
       "      <td>3.62</td>\n",
       "      <td>2.59</td>\n",
       "      <td>2.75</td>\n",
       "      <td>4.21</td>\n",
       "      <td>7.44</td>\n",
       "      <td>7.22</td>\n",
       "      <td>6.38</td>\n",
       "    </tr>\n",
       "    <tr>\n",
       "      <th>126</th>\n",
       "      <td>kyoto</td>\n",
       "      <td>35.011983</td>\n",
       "      <td>135.676114</td>\n",
       "      <td>44</td>\n",
       "      <td>2022</td>\n",
       "      <td>2022-04-01</td>\n",
       "      <td>91</td>\n",
       "      <td>7.34</td>\n",
       "      <td>9.26</td>\n",
       "      <td>9.57</td>\n",
       "      <td>...</td>\n",
       "      <td>3.07</td>\n",
       "      <td>3.38</td>\n",
       "      <td>3.89</td>\n",
       "      <td>3.82</td>\n",
       "      <td>5.02</td>\n",
       "      <td>4.37</td>\n",
       "      <td>2.58</td>\n",
       "      <td>5.40</td>\n",
       "      <td>2.17</td>\n",
       "      <td>2.50</td>\n",
       "    </tr>\n",
       "    <tr>\n",
       "      <th>127</th>\n",
       "      <td>kyoto</td>\n",
       "      <td>35.011983</td>\n",
       "      <td>135.676114</td>\n",
       "      <td>44</td>\n",
       "      <td>2023</td>\n",
       "      <td>2023-03-25</td>\n",
       "      <td>84</td>\n",
       "      <td>5.79</td>\n",
       "      <td>9.12</td>\n",
       "      <td>6.97</td>\n",
       "      <td>...</td>\n",
       "      <td>4.38</td>\n",
       "      <td>3.22</td>\n",
       "      <td>5.14</td>\n",
       "      <td>2.53</td>\n",
       "      <td>4.45</td>\n",
       "      <td>3.39</td>\n",
       "      <td>2.63</td>\n",
       "      <td>2.66</td>\n",
       "      <td>3.20</td>\n",
       "      <td>3.39</td>\n",
       "    </tr>\n",
       "  </tbody>\n",
       "</table>\n",
       "<p>128 rows × 630 columns</p>\n",
       "</div>"
      ],
      "text/plain": [
       "         location        lat        long  alt  year bloom_date  bloom_doy  \\\n",
       "0    washingtondc  38.885350  -77.038628    0  1982 1982-04-07         97   \n",
       "1    washingtondc  38.885350  -77.038628    0  1983 1983-04-07         97   \n",
       "2    washingtondc  38.885350  -77.038628    0  1984 1984-04-03         94   \n",
       "3    washingtondc  38.885350  -77.038628    0  1985 1985-04-07         97   \n",
       "4    washingtondc  38.885350  -77.038628    0  1986 1986-04-02         92   \n",
       "..            ...        ...         ...  ...   ...        ...        ...   \n",
       "123         kyoto  35.011983  135.676114   44  2019 2019-04-05         95   \n",
       "124         kyoto  35.011983  135.676114   44  2020 2020-04-01         92   \n",
       "125         kyoto  35.011983  135.676114   44  2021 2021-03-26         85   \n",
       "126         kyoto  35.011983  135.676114   44  2022 2022-04-01         91   \n",
       "127         kyoto  35.011983  135.676114   44  2023 2023-03-25         84   \n",
       "\n",
       "     t2m-dec-1  t2m-dec-10  t2m-dec-11  ...  ws10m-jan-29  ws10m-jan-3  \\\n",
       "0         2.57       -1.50       -0.79  ...          3.41         3.46   \n",
       "1         9.83       -1.86        1.73  ...          2.34         4.30   \n",
       "2         1.15        3.85        3.63  ...          3.12         2.87   \n",
       "3         4.82        2.40        3.58  ...          4.23         4.98   \n",
       "4         8.61        4.42        8.87  ...          3.18         5.28   \n",
       "..         ...         ...         ...  ...           ...          ...   \n",
       "123       8.86        2.87        4.26  ...          5.08         4.05   \n",
       "124       6.80        8.05        7.74  ...          4.42         3.94   \n",
       "125       7.07        7.52        9.23  ...          8.73         4.74   \n",
       "126       7.34        9.26        9.57  ...          3.07         3.38   \n",
       "127       5.79        9.12        6.97  ...          4.38         3.22   \n",
       "\n",
       "     ws10m-jan-30  ws10m-jan-31  ws10m-jan-4  ws10m-jan-5  ws10m-jan-6  \\\n",
       "0            5.06          5.66         7.16         6.54         4.62   \n",
       "1            3.93          3.12         3.69         2.52         3.91   \n",
       "2            2.90          8.26         3.22         2.33         3.94   \n",
       "3            2.09          3.40         3.05         5.89         4.02   \n",
       "4            5.12          2.66         3.59         6.66         6.08   \n",
       "..            ...           ...          ...          ...          ...   \n",
       "123          2.20          4.12         2.19         3.93         4.52   \n",
       "124          5.01          6.27         4.04         5.41         3.23   \n",
       "125          4.71          3.62         2.59         2.75         4.21   \n",
       "126          3.89          3.82         5.02         4.37         2.58   \n",
       "127          5.14          2.53         4.45         3.39         2.63   \n",
       "\n",
       "     ws10m-jan-7  ws10m-jan-8  ws10m-jan-9  \n",
       "0           5.24         5.55         6.83  \n",
       "1           5.22         3.53         4.47  \n",
       "2           5.74         3.98         2.92  \n",
       "3           3.74         7.33         5.12  \n",
       "4           5.78         4.51         3.84  \n",
       "..           ...          ...          ...  \n",
       "123         3.23         3.70         5.60  \n",
       "124         3.33         9.88         4.28  \n",
       "125         7.44         7.22         6.38  \n",
       "126         5.40         2.17         2.50  \n",
       "127         2.66         3.20         3.39  \n",
       "\n",
       "[128 rows x 630 columns]"
      ]
     },
     "execution_count": 27,
     "metadata": {},
     "output_type": "execute_result"
    }
   ],
   "source": [
    "modelData = pd.merge(bloomData,weather,on=['location','year'],how='left')\n",
    "modelData"
   ]
  },
  {
   "cell_type": "markdown",
   "metadata": {},
   "source": [
    "## Modeling - Gradient Boosting Regression\n",
    "\n",
    "- Importing required libraries"
   ]
  },
  {
   "cell_type": "code",
   "execution_count": 147,
   "metadata": {},
   "outputs": [],
   "source": [
    "import matplotlib.pyplot as plt\n",
    "import numpy as np\n",
    "\n",
    "from sklearn import ensemble\n",
    "from sklearn.inspection import permutation_importance\n",
    "from sklearn.metrics import mean_pinball_loss, mean_squared_error\n",
    "from sklearn.model_selection import train_test_split"
   ]
  },
  {
   "cell_type": "markdown",
   "metadata": {},
   "source": [
    "- Preparing training and test sets"
   ]
  },
  {
   "cell_type": "code",
   "execution_count": 87,
   "metadata": {},
   "outputs": [],
   "source": [
    "# Separate predictors (X) and response variable (y)\n",
    "x = modelData.drop(['location','lat','long','alt','year','bloom_date','bloom_doy'], axis=1)\n",
    "y = modelData['bloom_doy']\n",
    "\n",
    "# Split the data into training and testing sets\n",
    "x_train, x_test, y_train, y_test = train_test_split(x, y, test_size=0.3, random_state=42)\n",
    "\n",
    "# Defining Parameters\n",
    "params = {\n",
    "    \"n_estimators\": 250, # Value found after checking deviance plot\n",
    "    \"max_depth\": 10,\n",
    "    \"min_samples_split\": 10,\n",
    "    \"learning_rate\": 0.01,\n",
    "    \"loss\": \"squared_error\",\n",
    "    \"random_state\":42\n",
    "}"
   ]
  },
  {
   "cell_type": "markdown",
   "metadata": {},
   "source": [
    "- Training the model and defining parameters for model"
   ]
  },
  {
   "cell_type": "code",
   "execution_count": 88,
   "metadata": {},
   "outputs": [
    {
     "name": "stdout",
     "output_type": "stream",
     "text": [
      "The root mean squared error (RMSE) on test set: 6.8277\n"
     ]
    }
   ],
   "source": [
    "reg = ensemble.GradientBoostingRegressor(**params)\n",
    "reg.fit(x_train, y_train)\n",
    "\n",
    "mse = mean_squared_error(y_test, reg.predict(x_test))\n",
    "rmse = np.sqrt(mse)\n",
    "print(\"The root mean squared error (RMSE) on test set: {:.4f}\".format(rmse))\n",
    "\n"
   ]
  },
  {
   "cell_type": "markdown",
   "metadata": {},
   "source": [
    "- Checking deviance: Training vs Test"
   ]
  },
  {
   "cell_type": "code",
   "execution_count": 91,
   "metadata": {},
   "outputs": [
    {
     "data": {
      "image/png": "[encoded data removed]",
      "text/plain": [
       "<Figure size 600x600 with 1 Axes>"
      ]
     },
     "metadata": {},
     "output_type": "display_data"
    }
   ],
   "source": [
    "# Reference: https://scikit-learn.org/stable/auto_examples/ensemble/plot_gradient_boosting_regression.html#sphx-glr-auto-examples-ensemble-plot-gradient-boosting-regression-py\n",
    "test_score = np.zeros((params[\"n_estimators\"],), dtype=np.float64)\n",
    "for i, y_pred in enumerate(reg.staged_predict(x_test)):\n",
    "    test_score[i] = mean_squared_error(y_test, y_pred)\n",
    "\n",
    "fig = plt.figure(figsize=(6, 6))\n",
    "plt.subplot(1, 1, 1)\n",
    "plt.title(\"Deviance\")\n",
    "plt.plot(\n",
    "    np.arange(params[\"n_estimators\"]) + 1,\n",
    "    reg.train_score_,\n",
    "    \"b-\",\n",
    "    label=\"Training Set Deviance\",\n",
    ")\n",
    "plt.plot(\n",
    "    np.arange(params[\"n_estimators\"]) + 1, test_score, \"r-\", label=\"Test Set Deviance\"\n",
    ")\n",
    "plt.legend(loc=\"upper right\")\n",
    "plt.xlabel(\"Boosting Iterations\")\n",
    "plt.ylabel(\"Deviance\")\n",
    "fig.tight_layout()\n",
    "plt.show()"
   ]
  },
  {
   "cell_type": "markdown",
   "metadata": {},
   "source": [
    "- Identifying relevant predictors"
   ]
  },
  {
   "cell_type": "code",
   "execution_count": 108,
   "metadata": {},
   "outputs": [
    {
     "data": {
      "image/png": "[encoded data removed]",
      "text/plain": [
       "<Figure size 1200x600 with 2 Axes>"
      ]
     },
     "metadata": {},
     "output_type": "display_data"
    }
   ],
   "source": [
    "# Reference: https://scikit-learn.org/stable/auto_examples/ensemble/plot_gradient_boosting_regression.html#sphx-glr-auto-examples-ensemble-plot-gradient-boosting-regression-py\n",
    "# Feature Importance (MDI)\n",
    "feature_importance = reg.feature_importances_\n",
    "sorted_idx = np.argsort(feature_importance)\n",
    "top_10_idx_mdi = sorted_idx[-10:]  # Select the top 10 features based on MDI\n",
    "\n",
    "fig, ax = plt.subplots(1, 2, figsize=(12, 6))\n",
    "\n",
    "# Plotting Feature Importance (MDI)\n",
    "pos = np.arange(len(top_10_idx_mdi)) + 0.5\n",
    "ax[0].barh(pos, feature_importance[top_10_idx_mdi], align=\"center\")\n",
    "ax[0].set_yticks(pos)\n",
    "ax[0].set_yticklabels(np.array(x.columns)[top_10_idx_mdi])\n",
    "ax[0].set_title(\"Top 10 Feature Importance (MDI)\")\n",
    "\n",
    "# Permutation Importance (test set)\n",
    "result = permutation_importance(\n",
    "    reg, x_test, y_test, n_repeats=10, random_state=42, n_jobs=2\n",
    ")\n",
    "sorted_idx_perm = result.importances_mean.argsort()\n",
    "top_10_idx_perm = sorted_idx_perm[-10:]  # Select the top 10 features based on permutation importance\n",
    "\n",
    "# Plotting Permutation Importance (test set)\n",
    "ax[1].boxplot(\n",
    "    result.importances[top_10_idx_perm].T,\n",
    "    vert=False,\n",
    "    labels=np.array(x.columns)[top_10_idx_perm],\n",
    ")\n",
    "ax[1].set_title(\"Top 10 Permutation Importance (test set)\")\n",
    "\n",
    "fig.tight_layout()\n",
    "plt.show()"
   ]
  },
  {
   "cell_type": "markdown",
   "metadata": {},
   "source": [
    "- Plotting predicted values vs real values"
   ]
  },
  {
   "cell_type": "code",
   "execution_count": 143,
   "metadata": {},
   "outputs": [
    {
     "data": {
      "application/vnd.plotly.v1+json": {
       "config": {
        "plotlyServerURL": "https://plot.ly"
       },
       "data": [
        {
         "hovertemplate": "location=washingtondc<br>Original Bloom DOY=%{x}<br>Predicted Bloom DOY=%{y}<extra></extra>",
         "legendgroup": "washingtondc",
         "marker": {
          "color": "#636efa",
          "symbol": "circle"
         },
         "mode": "markers",
         "name": "washingtondc",
         "orientation": "v",
         "showlegend": true,
         "type": "scatter",
         "x": [
          91,
          80,
          88,
          100,
          91,
          90,
          87,
          87,
          84,
          86,
          85,
          88,
          74,
          92,
          97,
          95,
          80,
          91,
          82,
          100,
          91,
          88,
          97,
          92,
          94,
          99,
          92,
          95,
          80,
          96,
          99,
          86,
          91,
          92,
          95,
          77,
          98,
          101,
          97,
          95,
          89,
          85
         ],
         "xaxis": "x",
         "y": [
          90.9333236669631,
          81.30007207419538,
          88.51795357553726,
          99.41690649597858,
          91.19351558380438,
          89.9829404857419,
          87.8388469335695,
          87.73242229136444,
          84.21246835754386,
          86.78717947709801,
          85.6723835456599,
          88.30153177685743,
          77.12645106850687,
          92.26593108541866,
          96.5927024431609,
          94.93609949942136,
          81.27484318952497,
          91.41093534367427,
          82.62814244962127,
          99.34453441180872,
          91.09651124174927,
          88.47693923051932,
          96.91349839481937,
          92.19975534346199,
          94.0988560087526,
          98.56738770461008,
          92.18067045197137,
          94.97677237151663,
          92.42478153191256,
          93.5331655684463,
          95.28630648004487,
          96.73763562453995,
          91.587229201538,
          92.21307737109589,
          92.61225161764897,
          93.60070813617604,
          91.25577374703138,
          93.09345984997913,
          92.51711625963567,
          95.3978337765246,
          92.71497315524816,
          93.13803164991751
         ],
         "yaxis": "y"
        },
        {
         "hovertemplate": "location=liestal<br>Original Bloom DOY=%{x}<br>Predicted Bloom DOY=%{y}<extra></extra>",
         "legendgroup": "liestal",
         "marker": {
          "color": "#EF553B",
          "symbol": "circle"
         },
         "mode": "markers",
         "name": "liestal",
         "orientation": "v",
         "showlegend": true,
         "type": "scatter",
         "x": [
          108,
          92,
          92,
          92,
          94,
          111,
          90,
          112,
          88,
          84,
          98,
          87,
          102,
          108,
          110,
          94,
          85,
          109,
          121,
          93,
          107,
          81,
          89,
          75,
          93,
          77,
          90,
          100,
          87,
          101,
          82,
          94,
          86,
          77,
          98,
          85,
          101,
          89,
          97,
          106,
          95,
          101
         ],
         "xaxis": "x",
         "y": [
          106.72716202599842,
          92.37347078254956,
          92.26464768619559,
          92.17885384662722,
          94.00772759769092,
          109.22455310382313,
          90.40065241022155,
          110.58488286258941,
          88.39511754592671,
          84.91464539723208,
          98.2019083947923,
          87.39972074867474,
          101.22605262411057,
          106.86431051425767,
          108.59023151323983,
          94.2947701121428,
          85.67674754355644,
          107.68745028320973,
          117.32369725505802,
          93.48658418388274,
          106.05644344735985,
          82.13679310917603,
          89.45134357564672,
          77.28892290942584,
          93.08005484295089,
          79.36199164094978,
          90.23769443606712,
          99.38952780186058,
          87.62136777001228,
          95.68493326097962,
          88.85383330288133,
          95.70687253817258,
          93.86127865159861,
          99.51613301871429,
          100.64533322597113,
          90.18117866738093,
          93.65073323385573,
          94.52955273918823,
          95.70316693020567,
          101.80355814386444,
          102.94547588345444,
          101.70654144224501
         ],
         "yaxis": "y"
        },
        {
         "hovertemplate": "location=kyoto<br>Original Bloom DOY=%{x}<br>Predicted Bloom DOY=%{y}<extra></extra>",
         "legendgroup": "kyoto",
         "marker": {
          "color": "#00cc96",
          "symbol": "circle"
         },
         "mode": "markers",
         "name": "kyoto",
         "orientation": "v",
         "showlegend": true,
         "type": "scatter",
         "x": [
          97,
          99,
          99,
          97,
          95,
          89,
          95,
          92,
          93,
          103,
          98,
          93,
          93,
          95,
          92,
          97,
          102,
          109,
          99,
          95,
          98,
          95,
          94,
          99,
          99,
          101,
          93,
          84,
          91,
          106,
          91,
          99,
          100,
          88,
          94,
          95,
          85,
          94,
          96,
          91,
          97,
          99
         ],
         "xaxis": "x",
         "y": [
          96.87171843635555,
          98.39581368238416,
          98.64081016457484,
          96.8662905004813,
          94.98311286938213,
          89.52967399509328,
          94.9289531859289,
          92.1376970613865,
          92.99335018484139,
          102.20154525531844,
          97.62493812523736,
          93.04361079141304,
          93.22912786878562,
          94.95638940792304,
          92.06381098987434,
          96.61163221315188,
          101.25093976607518,
          106.90229385144636,
          98.52864297075796,
          94.96117167409643,
          97.60065362535116,
          94.95165780618288,
          93.97629681543928,
          98.48480281006023,
          98.45038938555034,
          100.1854710193191,
          92.99545661334281,
          85.10188355257709,
          91.33714941829368,
          104.50706996127789,
          91.27055438084216,
          96.91016391047846,
          100.09954858461039,
          91.10725111700019,
          96.70265575163158,
          92.55827579178695,
          88.61011981137891,
          95.2351210504401,
          95.68858778478801,
          96.61128645422541,
          95.22493313682216,
          97.33467021125456
         ],
         "yaxis": "y"
        },
        {
         "hovertemplate": "location=vancouver<br>Original Bloom DOY=%{x}<br>Predicted Bloom DOY=%{y}<extra></extra>",
         "legendgroup": "vancouver",
         "marker": {
          "color": "#ab63fa",
          "symbol": "circle"
         },
         "mode": "markers",
         "name": "vancouver",
         "orientation": "v",
         "showlegend": true,
         "type": "scatter",
         "x": [
          97,
          86
         ],
         "xaxis": "x",
         "y": [
          96.990191149176,
          96.53227621061275
         ],
         "yaxis": "y"
        }
       ],
       "layout": {
        "legend": {
         "title": {
          "text": "location"
         },
         "tracegroupgap": 0
        },
        "template": {
         "data": {
          "bar": [
           {
            "error_x": {
             "color": "#2a3f5f"
            },
            "error_y": {
             "color": "#2a3f5f"
            },
            "marker": {
             "line": {
              "color": "#E5ECF6",
              "width": 0.5
             },
             "pattern": {
              "fillmode": "overlay",
              "size": 10,
              "solidity": 0.2
             }
            },
            "type": "bar"
           }
          ],
          "barpolar": [
           {
            "marker": {
             "line": {
              "color": "#E5ECF6",
              "width": 0.5
             },
             "pattern": {
              "fillmode": "overlay",
              "size": 10,
              "solidity": 0.2
             }
            },
            "type": "barpolar"
           }
          ],
          "carpet": [
           {
            "aaxis": {
             "endlinecolor": "#2a3f5f",
             "gridcolor": "white",
             "linecolor": "white",
             "minorgridcolor": "white",
             "startlinecolor": "#2a3f5f"
            },
            "baxis": {
             "endlinecolor": "#2a3f5f",
             "gridcolor": "white",
             "linecolor": "white",
             "minorgridcolor": "white",
             "startlinecolor": "#2a3f5f"
            },
            "type": "carpet"
           }
          ],
          "choropleth": [
           {
            "colorbar": {
             "outlinewidth": 0,
             "ticks": ""
            },
            "type": "choropleth"
           }
          ],
          "contour": [
           {
            "colorbar": {
             "outlinewidth": 0,
             "ticks": ""
            },
            "colorscale": [
             [
              0,
              "#0d0887"
             ],
             [
              0.1111111111111111,
              "#46039f"
             ],
             [
              0.2222222222222222,
              "#7201a8"
             ],
             [
              0.3333333333333333,
              "#9c179e"
             ],
             [
              0.4444444444444444,
              "#bd3786"
             ],
             [
              0.5555555555555556,
              "#d8576b"
             ],
             [
              0.6666666666666666,
              "#ed7953"
             ],
             [
              0.7777777777777778,
              "#fb9f3a"
             ],
             [
              0.8888888888888888,
              "#fdca26"
             ],
             [
              1,
              "#f0f921"
             ]
            ],
            "type": "contour"
           }
          ],
          "contourcarpet": [
           {
            "colorbar": {
             "outlinewidth": 0,
             "ticks": ""
            },
            "type": "contourcarpet"
           }
          ],
          "heatmap": [
           {
            "colorbar": {
             "outlinewidth": 0,
             "ticks": ""
            },
            "colorscale": [
             [
              0,
              "#0d0887"
             ],
             [
              0.1111111111111111,
              "#46039f"
             ],
             [
              0.2222222222222222,
              "#7201a8"
             ],
             [
              0.3333333333333333,
              "#9c179e"
             ],
             [
              0.4444444444444444,
              "#bd3786"
             ],
             [
              0.5555555555555556,
              "#d8576b"
             ],
             [
              0.6666666666666666,
              "#ed7953"
             ],
             [
              0.7777777777777778,
              "#fb9f3a"
             ],
             [
              0.8888888888888888,
              "#fdca26"
             ],
             [
              1,
              "#f0f921"
             ]
            ],
            "type": "heatmap"
           }
          ],
          "heatmapgl": [
           {
            "colorbar": {
             "outlinewidth": 0,
             "ticks": ""
            },
            "colorscale": [
             [
              0,
              "#0d0887"
             ],
             [
              0.1111111111111111,
              "#46039f"
             ],
             [
              0.2222222222222222,
              "#7201a8"
             ],
             [
              0.3333333333333333,
              "#9c179e"
             ],
             [
              0.4444444444444444,
              "#bd3786"
             ],
             [
              0.5555555555555556,
              "#d8576b"
             ],
             [
              0.6666666666666666,
              "#ed7953"
             ],
             [
              0.7777777777777778,
              "#fb9f3a"
             ],
             [
              0.8888888888888888,
              "#fdca26"
             ],
             [
              1,
              "#f0f921"
             ]
            ],
            "type": "heatmapgl"
           }
          ],
          "histogram": [
           {
            "marker": {
             "pattern": {
              "fillmode": "overlay",
              "size": 10,
              "solidity": 0.2
             }
            },
            "type": "histogram"
           }
          ],
          "histogram2d": [
           {
            "colorbar": {
             "outlinewidth": 0,
             "ticks": ""
            },
            "colorscale": [
             [
              0,
              "#0d0887"
             ],
             [
              0.1111111111111111,
              "#46039f"
             ],
             [
              0.2222222222222222,
              "#7201a8"
             ],
             [
              0.3333333333333333,
              "#9c179e"
             ],
             [
              0.4444444444444444,
              "#bd3786"
             ],
             [
              0.5555555555555556,
              "#d8576b"
             ],
             [
              0.6666666666666666,
              "#ed7953"
             ],
             [
              0.7777777777777778,
              "#fb9f3a"
             ],
             [
              0.8888888888888888,
              "#fdca26"
             ],
             [
              1,
              "#f0f921"
             ]
            ],
            "type": "histogram2d"
           }
          ],
          "histogram2dcontour": [
           {
            "colorbar": {
             "outlinewidth": 0,
             "ticks": ""
            },
            "colorscale": [
             [
              0,
              "#0d0887"
             ],
             [
              0.1111111111111111,
              "#46039f"
             ],
             [
              0.2222222222222222,
              "#7201a8"
             ],
             [
              0.3333333333333333,
              "#9c179e"
             ],
             [
              0.4444444444444444,
              "#bd3786"
             ],
             [
              0.5555555555555556,
              "#d8576b"
             ],
             [
              0.6666666666666666,
              "#ed7953"
             ],
             [
              0.7777777777777778,
              "#fb9f3a"
             ],
             [
              0.8888888888888888,
              "#fdca26"
             ],
             [
              1,
              "#f0f921"
             ]
            ],
            "type": "histogram2dcontour"
           }
          ],
          "mesh3d": [
           {
            "colorbar": {
             "outlinewidth": 0,
             "ticks": ""
            },
            "type": "mesh3d"
           }
          ],
          "parcoords": [
           {
            "line": {
             "colorbar": {
              "outlinewidth": 0,
              "ticks": ""
             }
            },
            "type": "parcoords"
           }
          ],
          "pie": [
           {
            "automargin": true,
            "type": "pie"
           }
          ],
          "scatter": [
           {
            "fillpattern": {
             "fillmode": "overlay",
             "size": 10,
             "solidity": 0.2
            },
            "type": "scatter"
           }
          ],
          "scatter3d": [
           {
            "line": {
             "colorbar": {
              "outlinewidth": 0,
              "ticks": ""
             }
            },
            "marker": {
             "colorbar": {
              "outlinewidth": 0,
              "ticks": ""
             }
            },
            "type": "scatter3d"
           }
          ],
          "scattercarpet": [
           {
            "marker": {
             "colorbar": {
              "outlinewidth": 0,
              "ticks": ""
             }
            },
            "type": "scattercarpet"
           }
          ],
          "scattergeo": [
           {
            "marker": {
             "colorbar": {
              "outlinewidth": 0,
              "ticks": ""
             }
            },
            "type": "scattergeo"
           }
          ],
          "scattergl": [
           {
            "marker": {
             "colorbar": {
              "outlinewidth": 0,
              "ticks": ""
             }
            },
            "type": "scattergl"
           }
          ],
          "scattermapbox": [
           {
            "marker": {
             "colorbar": {
              "outlinewidth": 0,
              "ticks": ""
             }
            },
            "type": "scattermapbox"
           }
          ],
          "scatterpolar": [
           {
            "marker": {
             "colorbar": {
              "outlinewidth": 0,
              "ticks": ""
             }
            },
            "type": "scatterpolar"
           }
          ],
          "scatterpolargl": [
           {
            "marker": {
             "colorbar": {
              "outlinewidth": 0,
              "ticks": ""
             }
            },
            "type": "scatterpolargl"
           }
          ],
          "scatterternary": [
           {
            "marker": {
             "colorbar": {
              "outlinewidth": 0,
              "ticks": ""
             }
            },
            "type": "scatterternary"
           }
          ],
          "surface": [
           {
            "colorbar": {
             "outlinewidth": 0,
             "ticks": ""
            },
            "colorscale": [
             [
              0,
              "#0d0887"
             ],
             [
              0.1111111111111111,
              "#46039f"
             ],
             [
              0.2222222222222222,
              "#7201a8"
             ],
             [
              0.3333333333333333,
              "#9c179e"
             ],
             [
              0.4444444444444444,
              "#bd3786"
             ],
             [
              0.5555555555555556,
              "#d8576b"
             ],
             [
              0.6666666666666666,
              "#ed7953"
             ],
             [
              0.7777777777777778,
              "#fb9f3a"
             ],
             [
              0.8888888888888888,
              "#fdca26"
             ],
             [
              1,
              "#f0f921"
             ]
            ],
            "type": "surface"
           }
          ],
          "table": [
           {
            "cells": {
             "fill": {
              "color": "#EBF0F8"
             },
             "line": {
              "color": "white"
             }
            },
            "header": {
             "fill": {
              "color": "#C8D4E3"
             },
             "line": {
              "color": "white"
             }
            },
            "type": "table"
           }
          ]
         },
         "layout": {
          "annotationdefaults": {
           "arrowcolor": "#2a3f5f",
           "arrowhead": 0,
           "arrowwidth": 1
          },
          "autotypenumbers": "strict",
          "coloraxis": {
           "colorbar": {
            "outlinewidth": 0,
            "ticks": ""
           }
          },
          "colorscale": {
           "diverging": [
            [
             0,
             "#8e0152"
            ],
            [
             0.1,
             "#c51b7d"
            ],
            [
             0.2,
             "#de77ae"
            ],
            [
             0.3,
             "#f1b6da"
            ],
            [
             0.4,
             "#fde0ef"
            ],
            [
             0.5,
             "#f7f7f7"
            ],
            [
             0.6,
             "#e6f5d0"
            ],
            [
             0.7,
             "#b8e186"
            ],
            [
             0.8,
             "#7fbc41"
            ],
            [
             0.9,
             "#4d9221"
            ],
            [
             1,
             "#276419"
            ]
           ],
           "sequential": [
            [
             0,
             "#0d0887"
            ],
            [
             0.1111111111111111,
             "#46039f"
            ],
            [
             0.2222222222222222,
             "#7201a8"
            ],
            [
             0.3333333333333333,
             "#9c179e"
            ],
            [
             0.4444444444444444,
             "#bd3786"
            ],
            [
             0.5555555555555556,
             "#d8576b"
            ],
            [
             0.6666666666666666,
             "#ed7953"
            ],
            [
             0.7777777777777778,
             "#fb9f3a"
            ],
            [
             0.8888888888888888,
             "#fdca26"
            ],
            [
             1,
             "#f0f921"
            ]
           ],
           "sequentialminus": [
            [
             0,
             "#0d0887"
            ],
            [
             0.1111111111111111,
             "#46039f"
            ],
            [
             0.2222222222222222,
             "#7201a8"
            ],
            [
             0.3333333333333333,
             "#9c179e"
            ],
            [
             0.4444444444444444,
             "#bd3786"
            ],
            [
             0.5555555555555556,
             "#d8576b"
            ],
            [
             0.6666666666666666,
             "#ed7953"
            ],
            [
             0.7777777777777778,
             "#fb9f3a"
            ],
            [
             0.8888888888888888,
             "#fdca26"
            ],
            [
             1,
             "#f0f921"
            ]
           ]
          },
          "colorway": [
           "#636efa",
           "#EF553B",
           "#00cc96",
           "#ab63fa",
           "#FFA15A",
           "#19d3f3",
           "#FF6692",
           "#B6E880",
           "#FF97FF",
           "#FECB52"
          ],
          "font": {
           "color": "#2a3f5f"
          },
          "geo": {
           "bgcolor": "white",
           "lakecolor": "white",
           "landcolor": "#E5ECF6",
           "showlakes": true,
           "showland": true,
           "subunitcolor": "white"
          },
          "hoverlabel": {
           "align": "left"
          },
          "hovermode": "closest",
          "mapbox": {
           "style": "light"
          },
          "paper_bgcolor": "white",
          "plot_bgcolor": "#E5ECF6",
          "polar": {
           "angularaxis": {
            "gridcolor": "white",
            "linecolor": "white",
            "ticks": ""
           },
           "bgcolor": "#E5ECF6",
           "radialaxis": {
            "gridcolor": "white",
            "linecolor": "white",
            "ticks": ""
           }
          },
          "scene": {
           "xaxis": {
            "backgroundcolor": "#E5ECF6",
            "gridcolor": "white",
            "gridwidth": 2,
            "linecolor": "white",
            "showbackground": true,
            "ticks": "",
            "zerolinecolor": "white"
           },
           "yaxis": {
            "backgroundcolor": "#E5ECF6",
            "gridcolor": "white",
            "gridwidth": 2,
            "linecolor": "white",
            "showbackground": true,
            "ticks": "",
            "zerolinecolor": "white"
           },
           "zaxis": {
            "backgroundcolor": "#E5ECF6",
            "gridcolor": "white",
            "gridwidth": 2,
            "linecolor": "white",
            "showbackground": true,
            "ticks": "",
            "zerolinecolor": "white"
           }
          },
          "shapedefaults": {
           "line": {
            "color": "#2a3f5f"
           }
          },
          "ternary": {
           "aaxis": {
            "gridcolor": "white",
            "linecolor": "white",
            "ticks": ""
           },
           "baxis": {
            "gridcolor": "white",
            "linecolor": "white",
            "ticks": ""
           },
           "bgcolor": "#E5ECF6",
           "caxis": {
            "gridcolor": "white",
            "linecolor": "white",
            "ticks": ""
           }
          },
          "title": {
           "x": 0.05
          },
          "xaxis": {
           "automargin": true,
           "gridcolor": "white",
           "linecolor": "white",
           "ticks": "",
           "title": {
            "standoff": 15
           },
           "zerolinecolor": "white",
           "zerolinewidth": 2
          },
          "yaxis": {
           "automargin": true,
           "gridcolor": "white",
           "linecolor": "white",
           "ticks": "",
           "title": {
            "standoff": 15
           },
           "zerolinecolor": "white",
           "zerolinewidth": 2
          }
         }
        },
        "title": {
         "text": "Bloom DOY Prediction"
        },
        "xaxis": {
         "anchor": "y",
         "domain": [
          0,
          1
         ],
         "title": {
          "text": "Original Bloom DOY"
         }
        },
        "yaxis": {
         "anchor": "x",
         "domain": [
          0,
          1
         ],
         "title": {
          "text": "Predicted Bloom DOY"
         }
        }
       }
      }
     },
     "metadata": {},
     "output_type": "display_data"
    }
   ],
   "source": [
    "# Creating Series for DF\n",
    "trainingIndex = x_train.index\n",
    "trainingPredY = pd.Series(reg.predict(x_train),index=trainingIndex)\n",
    "trainingY = y_train\n",
    "\n",
    "testingIndex = x_test.index\n",
    "testingPredY = pd.Series(reg.predict(x_test),index=testingIndex)\n",
    "testingY = y_test\n",
    "\n",
    "# Creating Pandas DataFrame\n",
    "trainingDf = pd.DataFrame({'bloom-doy-orig':trainingY,'bloom-doy-pred':trainingPredY})\n",
    "testingDf = pd.DataFrame({'bloom-doy-orig':testingY,'bloom-doy-pred':testingPredY})\n",
    "\n",
    "# Putting DF together\n",
    "comparisonPlot = pd.concat([trainingDf,testingDf],ignore_index=False)\n",
    "comparisonPlot.head(n=25)\n",
    "\n",
    "# Getting location and year\n",
    "comparisonPlotLocation = modelData.loc[comparisonPlot.index,'location']\n",
    "comparisonPlotYear = modelData.loc[comparisonPlot.index,'year']\n",
    "LocationYear = pd.DataFrame({'location':comparisonPlotLocation,'year':comparisonPlotYear})\n",
    "\n",
    "# Adding data to comparison plot\n",
    "comparisonPlot = pd.concat([comparisonPlot,LocationYear],axis=1)\n",
    "\n",
    "# Create scatter plot with legend per location\n",
    "fig = px.scatter(comparisonPlot, x='bloom-doy-orig', y='bloom-doy-pred', color='location', title='Bloom DOY Prediction',\n",
    "                 labels={'bloom-doy-orig': 'Original Bloom DOY', 'bloom-doy-pred': 'Predicted Bloom DOY',})\n",
    "                 #trendline='ols')\n",
    "\n",
    "# Show the plot\n",
    "fig.show()"
   ]
  },
  {
   "cell_type": "markdown",
   "metadata": {},
   "source": [
    "## Prediction 2024 - Gradient Boosting Regression\n",
    "\n",
    "- Gathering predictors for 2024"
   ]
  },
  {
   "cell_type": "code",
   "execution_count": 145,
   "metadata": {},
   "outputs": [
    {
     "data": {
      "text/html": [
       "<div>\n",
       "<style scoped>\n",
       "    .dataframe tbody tr th:only-of-type {\n",
       "        vertical-align: middle;\n",
       "    }\n",
       "\n",
       "    .dataframe tbody tr th {\n",
       "        vertical-align: top;\n",
       "    }\n",
       "\n",
       "    .dataframe thead th {\n",
       "        text-align: right;\n",
       "    }\n",
       "</style>\n",
       "<table border=\"1\" class=\"dataframe\">\n",
       "  <thead>\n",
       "    <tr style=\"text-align: right;\">\n",
       "      <th></th>\n",
       "      <th>year</th>\n",
       "      <th>location</th>\n",
       "      <th>t2m-dec-1</th>\n",
       "      <th>t2m-dec-10</th>\n",
       "      <th>t2m-dec-11</th>\n",
       "      <th>t2m-dec-12</th>\n",
       "      <th>t2m-dec-13</th>\n",
       "      <th>t2m-dec-14</th>\n",
       "      <th>t2m-dec-15</th>\n",
       "      <th>t2m-dec-16</th>\n",
       "      <th>...</th>\n",
       "      <th>ws10m-jan-29</th>\n",
       "      <th>ws10m-jan-3</th>\n",
       "      <th>ws10m-jan-30</th>\n",
       "      <th>ws10m-jan-31</th>\n",
       "      <th>ws10m-jan-4</th>\n",
       "      <th>ws10m-jan-5</th>\n",
       "      <th>ws10m-jan-6</th>\n",
       "      <th>ws10m-jan-7</th>\n",
       "      <th>ws10m-jan-8</th>\n",
       "      <th>ws10m-jan-9</th>\n",
       "    </tr>\n",
       "  </thead>\n",
       "  <tbody>\n",
       "    <tr>\n",
       "      <th>215</th>\n",
       "      <td>2024</td>\n",
       "      <td>kyoto</td>\n",
       "      <td>4.93</td>\n",
       "      <td>11.08</td>\n",
       "      <td>10.82</td>\n",
       "      <td>12.44</td>\n",
       "      <td>6.58</td>\n",
       "      <td>8.58</td>\n",
       "      <td>14.62</td>\n",
       "      <td>12.09</td>\n",
       "      <td>...</td>\n",
       "      <td>2.51</td>\n",
       "      <td>2.45</td>\n",
       "      <td>0.79</td>\n",
       "      <td>2.29</td>\n",
       "      <td>4.53</td>\n",
       "      <td>3.20</td>\n",
       "      <td>3.52</td>\n",
       "      <td>6.45</td>\n",
       "      <td>4.14</td>\n",
       "      <td>2.98</td>\n",
       "    </tr>\n",
       "    <tr>\n",
       "      <th>216</th>\n",
       "      <td>2024</td>\n",
       "      <td>liestal</td>\n",
       "      <td>-0.77</td>\n",
       "      <td>5.78</td>\n",
       "      <td>8.18</td>\n",
       "      <td>8.31</td>\n",
       "      <td>5.30</td>\n",
       "      <td>3.68</td>\n",
       "      <td>2.70</td>\n",
       "      <td>1.00</td>\n",
       "      <td>...</td>\n",
       "      <td>1.96</td>\n",
       "      <td>10.23</td>\n",
       "      <td>2.24</td>\n",
       "      <td>1.99</td>\n",
       "      <td>5.98</td>\n",
       "      <td>2.21</td>\n",
       "      <td>2.49</td>\n",
       "      <td>5.09</td>\n",
       "      <td>6.20</td>\n",
       "      <td>3.70</td>\n",
       "    </tr>\n",
       "    <tr>\n",
       "      <th>217</th>\n",
       "      <td>2024</td>\n",
       "      <td>newyork</td>\n",
       "      <td>8.50</td>\n",
       "      <td>11.65</td>\n",
       "      <td>5.72</td>\n",
       "      <td>4.31</td>\n",
       "      <td>4.76</td>\n",
       "      <td>2.96</td>\n",
       "      <td>6.30</td>\n",
       "      <td>7.39</td>\n",
       "      <td>...</td>\n",
       "      <td>7.97</td>\n",
       "      <td>3.69</td>\n",
       "      <td>4.13</td>\n",
       "      <td>3.07</td>\n",
       "      <td>6.16</td>\n",
       "      <td>5.42</td>\n",
       "      <td>6.43</td>\n",
       "      <td>7.93</td>\n",
       "      <td>4.95</td>\n",
       "      <td>10.22</td>\n",
       "    </tr>\n",
       "    <tr>\n",
       "      <th>218</th>\n",
       "      <td>2024</td>\n",
       "      <td>vancouver</td>\n",
       "      <td>4.72</td>\n",
       "      <td>6.52</td>\n",
       "      <td>5.21</td>\n",
       "      <td>3.41</td>\n",
       "      <td>5.66</td>\n",
       "      <td>6.38</td>\n",
       "      <td>6.48</td>\n",
       "      <td>6.40</td>\n",
       "      <td>...</td>\n",
       "      <td>3.54</td>\n",
       "      <td>3.55</td>\n",
       "      <td>2.88</td>\n",
       "      <td>3.99</td>\n",
       "      <td>3.84</td>\n",
       "      <td>5.27</td>\n",
       "      <td>3.79</td>\n",
       "      <td>2.33</td>\n",
       "      <td>5.12</td>\n",
       "      <td>6.64</td>\n",
       "    </tr>\n",
       "    <tr>\n",
       "      <th>219</th>\n",
       "      <td>2024</td>\n",
       "      <td>washingtondc</td>\n",
       "      <td>5.06</td>\n",
       "      <td>10.76</td>\n",
       "      <td>2.19</td>\n",
       "      <td>0.83</td>\n",
       "      <td>1.83</td>\n",
       "      <td>0.93</td>\n",
       "      <td>3.72</td>\n",
       "      <td>5.04</td>\n",
       "      <td>...</td>\n",
       "      <td>6.82</td>\n",
       "      <td>2.55</td>\n",
       "      <td>3.07</td>\n",
       "      <td>1.95</td>\n",
       "      <td>5.17</td>\n",
       "      <td>2.87</td>\n",
       "      <td>4.78</td>\n",
       "      <td>5.05</td>\n",
       "      <td>3.23</td>\n",
       "      <td>8.78</td>\n",
       "    </tr>\n",
       "  </tbody>\n",
       "</table>\n",
       "<p>5 rows × 625 columns</p>\n",
       "</div>"
      ],
      "text/plain": [
       "     year      location  t2m-dec-1  t2m-dec-10  t2m-dec-11  t2m-dec-12  \\\n",
       "215  2024         kyoto       4.93       11.08       10.82       12.44   \n",
       "216  2024       liestal      -0.77        5.78        8.18        8.31   \n",
       "217  2024       newyork       8.50       11.65        5.72        4.31   \n",
       "218  2024     vancouver       4.72        6.52        5.21        3.41   \n",
       "219  2024  washingtondc       5.06       10.76        2.19        0.83   \n",
       "\n",
       "     t2m-dec-13  t2m-dec-14  t2m-dec-15  t2m-dec-16  ...  ws10m-jan-29  \\\n",
       "215        6.58        8.58       14.62       12.09  ...          2.51   \n",
       "216        5.30        3.68        2.70        1.00  ...          1.96   \n",
       "217        4.76        2.96        6.30        7.39  ...          7.97   \n",
       "218        5.66        6.38        6.48        6.40  ...          3.54   \n",
       "219        1.83        0.93        3.72        5.04  ...          6.82   \n",
       "\n",
       "     ws10m-jan-3  ws10m-jan-30  ws10m-jan-31  ws10m-jan-4  ws10m-jan-5  \\\n",
       "215         2.45          0.79          2.29         4.53         3.20   \n",
       "216        10.23          2.24          1.99         5.98         2.21   \n",
       "217         3.69          4.13          3.07         6.16         5.42   \n",
       "218         3.55          2.88          3.99         3.84         5.27   \n",
       "219         2.55          3.07          1.95         5.17         2.87   \n",
       "\n",
       "     ws10m-jan-6  ws10m-jan-7  ws10m-jan-8  ws10m-jan-9  \n",
       "215         3.52         6.45         4.14         2.98  \n",
       "216         2.49         5.09         6.20         3.70  \n",
       "217         6.43         7.93         4.95        10.22  \n",
       "218         3.79         2.33         5.12         6.64  \n",
       "219         4.78         5.05         3.23         8.78  \n",
       "\n",
       "[5 rows x 625 columns]"
      ]
     },
     "execution_count": 145,
     "metadata": {},
     "output_type": "execute_result"
    }
   ],
   "source": [
    "data2024 = weather[weather['year']==2024]\n",
    "data2024"
   ]
  },
  {
   "cell_type": "markdown",
   "metadata": {},
   "source": [
    "- Making Predictions"
   ]
  },
  {
   "cell_type": "code",
   "execution_count": 146,
   "metadata": {},
   "outputs": [
    {
     "data": {
      "text/plain": [
       "array([93.88937398, 85.08355621, 84.83331636, 84.00431038, 83.25508346])"
      ]
     },
     "execution_count": 146,
     "metadata": {},
     "output_type": "execute_result"
    }
   ],
   "source": [
    "reg.predict(data2024.drop(columns=['year','location']))"
   ]
  },
  {
   "cell_type": "markdown",
   "metadata": {},
   "source": [
    "## Estimating Prediction Intervals\n",
    "\n",
    "- Using quatile regression using same parameters as previous regressor"
   ]
  },
  {
   "cell_type": "code",
   "execution_count": 153,
   "metadata": {},
   "outputs": [],
   "source": [
    "# Empty Dictionary to store models\n",
    "all_models = {}\n",
    "\n",
    "# Using similar parameters as mse regressor\n",
    "params2 = {\n",
    "    \"n_estimators\": 250, # Value found after checking deviance plot\n",
    "    \"max_depth\": 10,\n",
    "    \"min_samples_split\": 10,\n",
    "    \"learning_rate\": 0.01,\n",
    "    #\"loss\": \"squared_error\",\n",
    "    \"random_state\":42\n",
    "}\n",
    "\n",
    "for alpha in [0.025, 0.5, 0.975]:\n",
    "    gbr = ensemble.GradientBoostingRegressor(loss=\"quantile\", alpha=alpha, **params2)\n",
    "    all_models[\"q %1.3f\" % alpha] = gbr.fit(x_train, y_train)"
   ]
  },
  {
   "cell_type": "markdown",
   "metadata": {},
   "source": [
    "- Adding previous regressor"
   ]
  },
  {
   "cell_type": "code",
   "execution_count": 154,
   "metadata": {},
   "outputs": [],
   "source": [
    "all_models['model'] = reg.fit(x_train, y_train)"
   ]
  },
  {
   "cell_type": "markdown",
   "metadata": {},
   "source": [
    "- Calculating 95% Prediction Interval"
   ]
  },
  {
   "cell_type": "code",
   "execution_count": 158,
   "metadata": {},
   "outputs": [
    {
     "data": {
      "text/html": [
       "<div>\n",
       "<style scoped>\n",
       "    .dataframe tbody tr th:only-of-type {\n",
       "        vertical-align: middle;\n",
       "    }\n",
       "\n",
       "    .dataframe tbody tr th {\n",
       "        vertical-align: top;\n",
       "    }\n",
       "\n",
       "    .dataframe thead th {\n",
       "        text-align: right;\n",
       "    }\n",
       "</style>\n",
       "<table border=\"1\" class=\"dataframe\">\n",
       "  <thead>\n",
       "    <tr style=\"text-align: right;\">\n",
       "      <th></th>\n",
       "      <th>locations</th>\n",
       "      <th>lower</th>\n",
       "      <th>prediction</th>\n",
       "      <th>upper</th>\n",
       "    </tr>\n",
       "  </thead>\n",
       "  <tbody>\n",
       "    <tr>\n",
       "      <th>0</th>\n",
       "      <td>kyoto</td>\n",
       "      <td>80.600277</td>\n",
       "      <td>93.889374</td>\n",
       "      <td>109.795829</td>\n",
       "    </tr>\n",
       "    <tr>\n",
       "      <th>1</th>\n",
       "      <td>liestal</td>\n",
       "      <td>75.159913</td>\n",
       "      <td>85.083556</td>\n",
       "      <td>109.795829</td>\n",
       "    </tr>\n",
       "    <tr>\n",
       "      <th>2</th>\n",
       "      <td>new york</td>\n",
       "      <td>81.902924</td>\n",
       "      <td>84.833316</td>\n",
       "      <td>109.850013</td>\n",
       "    </tr>\n",
       "    <tr>\n",
       "      <th>3</th>\n",
       "      <td>vancouver</td>\n",
       "      <td>78.353118</td>\n",
       "      <td>84.004310</td>\n",
       "      <td>109.795829</td>\n",
       "    </tr>\n",
       "    <tr>\n",
       "      <th>4</th>\n",
       "      <td>washingtondc</td>\n",
       "      <td>78.412401</td>\n",
       "      <td>83.255083</td>\n",
       "      <td>109.795829</td>\n",
       "    </tr>\n",
       "  </tbody>\n",
       "</table>\n",
       "</div>"
      ],
      "text/plain": [
       "      locations      lower  prediction       upper\n",
       "0         kyoto  80.600277   93.889374  109.795829\n",
       "1       liestal  75.159913   85.083556  109.795829\n",
       "2      new york  81.902924   84.833316  109.850013\n",
       "3     vancouver  78.353118   84.004310  109.795829\n",
       "4  washingtondc  78.412401   83.255083  109.795829"
      ]
     },
     "execution_count": 158,
     "metadata": {},
     "output_type": "execute_result"
    }
   ],
   "source": [
    "# getiing values\n",
    "y_pred = pd.Series(all_models['model'].predict(data2024.drop(columns=['year','location'])))\n",
    "y_lower = pd.Series(all_models['q 0.025'].predict(data2024.drop(columns=['year','location'])))\n",
    "y_upper = pd.Series(all_models['q 0.975'].predict(data2024.drop(columns=['year','location'])))\n",
    "locations = pd.Series(['kyoto','liestal','new york','vancouver','washingtondc'])\n",
    "# preparing DF\n",
    "pd.DataFrame({'locations':locations,\n",
    "              'lower':y_lower,\n",
    "              'prediction':y_pred,\n",
    "              'upper':y_upper})"
   ]
  },
  {
   "cell_type": "code",
   "execution_count": null,
   "metadata": {},
   "outputs": [],
   "source": []
  }
 ],
 "metadata": {
  "kernelspec": {
   "display_name": "Python 3",
   "language": "python",
   "name": "python3"
  },
  "language_info": {
   "codemirror_mode": {
    "name": "ipython",
    "version": 3
   },
   "file_extension": ".py",
   "mimetype": "text/x-python",
   "name": "python",
   "nbconvert_exporter": "python",
   "pygments_lexer": "ipython3",
   "version": "3.9.6"
  }
 },
 "nbformat": 4,
 "nbformat_minor": 2
}
